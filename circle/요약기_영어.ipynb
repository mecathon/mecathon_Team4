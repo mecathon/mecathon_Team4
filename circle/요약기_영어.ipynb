{
 "cells": [
  {
   "cell_type": "markdown",
   "metadata": {},
   "source": [
    "https://wikidocs.net/72820 참고_영어 요약"
   ]
  },
  {
   "cell_type": "code",
   "execution_count": 1,
   "metadata": {
    "scrolled": false
   },
   "outputs": [
    {
     "name": "stderr",
     "output_type": "stream",
     "text": [
      "[nltk_data] Downloading package stopwords to\n",
      "[nltk_data]     C:\\Users\\anaconda\\AppData\\Roaming\\nltk_data...\n",
      "[nltk_data]   Package stopwords is already up-to-date!\n"
     ]
    },
    {
     "data": {
      "text/plain": [
       "True"
      ]
     },
     "execution_count": 1,
     "metadata": {},
     "output_type": "execute_result"
    }
   ],
   "source": [
    "import nltk\n",
    "nltk.download(\"stopwords\")"
   ]
  },
  {
   "cell_type": "code",
   "execution_count": 2,
   "metadata": {},
   "outputs": [],
   "source": [
    "import pandas as pd\n",
    "import os\n",
    "import re\n",
    "import matplotlib.pyplot as plt\n",
    "from nltk.corpus import stopwords\n",
    "from bs4 import BeautifulSoup\n",
    "from tensorflow.keras.preprocessing.text import Tokenizer\n",
    "from tensorflow.keras.preprocessing.sequence import pad_sequences\n",
    "import urllib.request\n",
    "import numpy as np"
   ]
  },
  {
   "cell_type": "code",
   "execution_count": 3,
   "metadata": {},
   "outputs": [
    {
     "name": "stdout",
     "output_type": "stream",
     "text": [
      "전체 샘플 수 : 5000\n"
     ]
    }
   ],
   "source": [
    "# Reviews.csv 의 샘플 수는 56만 개. 너무 많으니 샘플 수를 제한.\n",
    "data = pd.read_csv(\"C:/Users/anaconda/python/club/Reviews.csv\", nrows = 5000)\n",
    "print(\"전체 샘플 수 :\", len(data))"
   ]
  },
  {
   "cell_type": "code",
   "execution_count": 4,
   "metadata": {},
   "outputs": [
    {
     "data": {
      "text/html": [
       "<div>\n",
       "<style scoped>\n",
       "    .dataframe tbody tr th:only-of-type {\n",
       "        vertical-align: middle;\n",
       "    }\n",
       "\n",
       "    .dataframe tbody tr th {\n",
       "        vertical-align: top;\n",
       "    }\n",
       "\n",
       "    .dataframe thead th {\n",
       "        text-align: right;\n",
       "    }\n",
       "</style>\n",
       "<table border=\"1\" class=\"dataframe\">\n",
       "  <thead>\n",
       "    <tr style=\"text-align: right;\">\n",
       "      <th></th>\n",
       "      <th>Id</th>\n",
       "      <th>ProductId</th>\n",
       "      <th>UserId</th>\n",
       "      <th>ProfileName</th>\n",
       "      <th>HelpfulnessNumerator</th>\n",
       "      <th>HelpfulnessDenominator</th>\n",
       "      <th>Score</th>\n",
       "      <th>Time</th>\n",
       "      <th>Summary</th>\n",
       "      <th>Text</th>\n",
       "    </tr>\n",
       "  </thead>\n",
       "  <tbody>\n",
       "    <tr>\n",
       "      <th>0</th>\n",
       "      <td>1</td>\n",
       "      <td>B001E4KFG0</td>\n",
       "      <td>A3SGXH7AUHU8GW</td>\n",
       "      <td>delmartian</td>\n",
       "      <td>1</td>\n",
       "      <td>1</td>\n",
       "      <td>5</td>\n",
       "      <td>1303862400</td>\n",
       "      <td>Good Quality Dog Food</td>\n",
       "      <td>I have bought several of the Vitality canned d...</td>\n",
       "    </tr>\n",
       "    <tr>\n",
       "      <th>1</th>\n",
       "      <td>2</td>\n",
       "      <td>B00813GRG4</td>\n",
       "      <td>A1D87F6ZCVE5NK</td>\n",
       "      <td>dll pa</td>\n",
       "      <td>0</td>\n",
       "      <td>0</td>\n",
       "      <td>1</td>\n",
       "      <td>1346976000</td>\n",
       "      <td>Not as Advertised</td>\n",
       "      <td>Product arrived labeled as Jumbo Salted Peanut...</td>\n",
       "    </tr>\n",
       "    <tr>\n",
       "      <th>2</th>\n",
       "      <td>3</td>\n",
       "      <td>B000LQOCH0</td>\n",
       "      <td>ABXLMWJIXXAIN</td>\n",
       "      <td>Natalia Corres \"Natalia Corres\"</td>\n",
       "      <td>1</td>\n",
       "      <td>1</td>\n",
       "      <td>4</td>\n",
       "      <td>1219017600</td>\n",
       "      <td>\"Delight\" says it all</td>\n",
       "      <td>This is a confection that has been around a fe...</td>\n",
       "    </tr>\n",
       "    <tr>\n",
       "      <th>3</th>\n",
       "      <td>4</td>\n",
       "      <td>B000UA0QIQ</td>\n",
       "      <td>A395BORC6FGVXV</td>\n",
       "      <td>Karl</td>\n",
       "      <td>3</td>\n",
       "      <td>3</td>\n",
       "      <td>2</td>\n",
       "      <td>1307923200</td>\n",
       "      <td>Cough Medicine</td>\n",
       "      <td>If you are looking for the secret ingredient i...</td>\n",
       "    </tr>\n",
       "    <tr>\n",
       "      <th>4</th>\n",
       "      <td>5</td>\n",
       "      <td>B006K2ZZ7K</td>\n",
       "      <td>A1UQRSCLF8GW1T</td>\n",
       "      <td>Michael D. Bigham \"M. Wassir\"</td>\n",
       "      <td>0</td>\n",
       "      <td>0</td>\n",
       "      <td>5</td>\n",
       "      <td>1350777600</td>\n",
       "      <td>Great taffy</td>\n",
       "      <td>Great taffy at a great price.  There was a wid...</td>\n",
       "    </tr>\n",
       "  </tbody>\n",
       "</table>\n",
       "</div>"
      ],
      "text/plain": [
       "   Id   ProductId          UserId                      ProfileName  \\\n",
       "0   1  B001E4KFG0  A3SGXH7AUHU8GW                       delmartian   \n",
       "1   2  B00813GRG4  A1D87F6ZCVE5NK                           dll pa   \n",
       "2   3  B000LQOCH0   ABXLMWJIXXAIN  Natalia Corres \"Natalia Corres\"   \n",
       "3   4  B000UA0QIQ  A395BORC6FGVXV                             Karl   \n",
       "4   5  B006K2ZZ7K  A1UQRSCLF8GW1T    Michael D. Bigham \"M. Wassir\"   \n",
       "\n",
       "   HelpfulnessNumerator  HelpfulnessDenominator  Score        Time  \\\n",
       "0                     1                       1      5  1303862400   \n",
       "1                     0                       0      1  1346976000   \n",
       "2                     1                       1      4  1219017600   \n",
       "3                     3                       3      2  1307923200   \n",
       "4                     0                       0      5  1350777600   \n",
       "\n",
       "                 Summary                                               Text  \n",
       "0  Good Quality Dog Food  I have bought several of the Vitality canned d...  \n",
       "1      Not as Advertised  Product arrived labeled as Jumbo Salted Peanut...  \n",
       "2  \"Delight\" says it all  This is a confection that has been around a fe...  \n",
       "3         Cough Medicine  If you are looking for the secret ingredient i...  \n",
       "4            Great taffy  Great taffy at a great price.  There was a wid...  "
      ]
     },
     "execution_count": 4,
     "metadata": {},
     "output_type": "execute_result"
    }
   ],
   "source": [
    "data.head()"
   ]
  },
  {
   "cell_type": "code",
   "execution_count": 5,
   "metadata": {},
   "outputs": [
    {
     "data": {
      "text/html": [
       "<div>\n",
       "<style scoped>\n",
       "    .dataframe tbody tr th:only-of-type {\n",
       "        vertical-align: middle;\n",
       "    }\n",
       "\n",
       "    .dataframe tbody tr th {\n",
       "        vertical-align: top;\n",
       "    }\n",
       "\n",
       "    .dataframe thead th {\n",
       "        text-align: right;\n",
       "    }\n",
       "</style>\n",
       "<table border=\"1\" class=\"dataframe\">\n",
       "  <thead>\n",
       "    <tr style=\"text-align: right;\">\n",
       "      <th></th>\n",
       "      <th>Text</th>\n",
       "      <th>Summary</th>\n",
       "    </tr>\n",
       "  </thead>\n",
       "  <tbody>\n",
       "    <tr>\n",
       "      <th>0</th>\n",
       "      <td>I have bought several of the Vitality canned d...</td>\n",
       "      <td>Good Quality Dog Food</td>\n",
       "    </tr>\n",
       "    <tr>\n",
       "      <th>1</th>\n",
       "      <td>Product arrived labeled as Jumbo Salted Peanut...</td>\n",
       "      <td>Not as Advertised</td>\n",
       "    </tr>\n",
       "    <tr>\n",
       "      <th>2</th>\n",
       "      <td>This is a confection that has been around a fe...</td>\n",
       "      <td>\"Delight\" says it all</td>\n",
       "    </tr>\n",
       "    <tr>\n",
       "      <th>3</th>\n",
       "      <td>If you are looking for the secret ingredient i...</td>\n",
       "      <td>Cough Medicine</td>\n",
       "    </tr>\n",
       "    <tr>\n",
       "      <th>4</th>\n",
       "      <td>Great taffy at a great price.  There was a wid...</td>\n",
       "      <td>Great taffy</td>\n",
       "    </tr>\n",
       "  </tbody>\n",
       "</table>\n",
       "</div>"
      ],
      "text/plain": [
       "                                                Text                Summary\n",
       "0  I have bought several of the Vitality canned d...  Good Quality Dog Food\n",
       "1  Product arrived labeled as Jumbo Salted Peanut...      Not as Advertised\n",
       "2  This is a confection that has been around a fe...  \"Delight\" says it all\n",
       "3  If you are looking for the secret ingredient i...         Cough Medicine\n",
       "4  Great taffy at a great price.  There was a wid...            Great taffy"
      ]
     },
     "execution_count": 5,
     "metadata": {},
     "output_type": "execute_result"
    }
   ],
   "source": [
    "data = data[['Text', 'Summary']]  # 전체 데이터 중 Text 열과 Summary 열만 별도로 저장\n",
    "data.head()"
   ]
  },
  {
   "cell_type": "code",
   "execution_count": 6,
   "metadata": {},
   "outputs": [
    {
     "data": {
      "text/html": [
       "<div>\n",
       "<style scoped>\n",
       "    .dataframe tbody tr th:only-of-type {\n",
       "        vertical-align: middle;\n",
       "    }\n",
       "\n",
       "    .dataframe tbody tr th {\n",
       "        vertical-align: top;\n",
       "    }\n",
       "\n",
       "    .dataframe thead th {\n",
       "        text-align: right;\n",
       "    }\n",
       "</style>\n",
       "<table border=\"1\" class=\"dataframe\">\n",
       "  <thead>\n",
       "    <tr style=\"text-align: right;\">\n",
       "      <th></th>\n",
       "      <th>Text</th>\n",
       "      <th>Summary</th>\n",
       "    </tr>\n",
       "  </thead>\n",
       "  <tbody>\n",
       "    <tr>\n",
       "      <th>3408</th>\n",
       "      <td>Funny thing - I bought some of these K-cups se...</td>\n",
       "      <td>Pretty good - not as bad as others are saying.</td>\n",
       "    </tr>\n",
       "    <tr>\n",
       "      <th>1893</th>\n",
       "      <td>I have subscribed these chips. They are so tas...</td>\n",
       "      <td>Love it! so tasty!</td>\n",
       "    </tr>\n",
       "    <tr>\n",
       "      <th>1258</th>\n",
       "      <td>We found this on our recent trip to England an...</td>\n",
       "      <td>Delicious! Best custard ever!</td>\n",
       "    </tr>\n",
       "    <tr>\n",
       "      <th>3764</th>\n",
       "      <td>This is the best Sweet Chili sauce I have foun...</td>\n",
       "      <td>This is the stuff you want.</td>\n",
       "    </tr>\n",
       "    <tr>\n",
       "      <th>4337</th>\n",
       "      <td>I love that it is mainstream and that it works...</td>\n",
       "      <td>Works like Bisquick</td>\n",
       "    </tr>\n",
       "    <tr>\n",
       "      <th>2188</th>\n",
       "      <td>Using the entire sauce packet is over kill, le...</td>\n",
       "      <td>Satay Noodles</td>\n",
       "    </tr>\n",
       "    <tr>\n",
       "      <th>1385</th>\n",
       "      <td>I bought the NuNaturals White Stevia with Malt...</td>\n",
       "      <td>Tastes great in iced drinks</td>\n",
       "    </tr>\n",
       "    <tr>\n",
       "      <th>908</th>\n",
       "      <td>This is my son's favorite dinner! Best of all ...</td>\n",
       "      <td>Sons Favorite Dinner!!!</td>\n",
       "    </tr>\n",
       "    <tr>\n",
       "      <th>664</th>\n",
       "      <td>I am so glad I was introduced the this brand o...</td>\n",
       "      <td>My Go to sweetner</td>\n",
       "    </tr>\n",
       "    <tr>\n",
       "      <th>1915</th>\n",
       "      <td>I have had the herb pods for about 6 months.  ...</td>\n",
       "      <td>Great concept, poor product</td>\n",
       "    </tr>\n",
       "    <tr>\n",
       "      <th>3872</th>\n",
       "      <td>This is one of the best decaf coffee's I have ...</td>\n",
       "      <td>Best decaf coffee I have tried!</td>\n",
       "    </tr>\n",
       "    <tr>\n",
       "      <th>4082</th>\n",
       "      <td>Read a few reviews, some good and some bad, an...</td>\n",
       "      <td>Works Awesome</td>\n",
       "    </tr>\n",
       "    <tr>\n",
       "      <th>2984</th>\n",
       "      <td>This tea is hard to find - it was a joy to fin...</td>\n",
       "      <td>Large Quanity, discontinued seasonal delicious...</td>\n",
       "    </tr>\n",
       "    <tr>\n",
       "      <th>2663</th>\n",
       "      <td>&lt;a href=\"http://www.amazon.com/gp/product/B001...</td>\n",
       "      <td>Refreshing flavor</td>\n",
       "    </tr>\n",
       "    <tr>\n",
       "      <th>3328</th>\n",
       "      <td>Taste was decent, a little sugary, but very cr...</td>\n",
       "      <td>Pleased with it</td>\n",
       "    </tr>\n",
       "  </tbody>\n",
       "</table>\n",
       "</div>"
      ],
      "text/plain": [
       "                                                   Text  \\\n",
       "3408  Funny thing - I bought some of these K-cups se...   \n",
       "1893  I have subscribed these chips. They are so tas...   \n",
       "1258  We found this on our recent trip to England an...   \n",
       "3764  This is the best Sweet Chili sauce I have foun...   \n",
       "4337  I love that it is mainstream and that it works...   \n",
       "2188  Using the entire sauce packet is over kill, le...   \n",
       "1385  I bought the NuNaturals White Stevia with Malt...   \n",
       "908   This is my son's favorite dinner! Best of all ...   \n",
       "664   I am so glad I was introduced the this brand o...   \n",
       "1915  I have had the herb pods for about 6 months.  ...   \n",
       "3872  This is one of the best decaf coffee's I have ...   \n",
       "4082  Read a few reviews, some good and some bad, an...   \n",
       "2984  This tea is hard to find - it was a joy to fin...   \n",
       "2663  <a href=\"http://www.amazon.com/gp/product/B001...   \n",
       "3328  Taste was decent, a little sugary, but very cr...   \n",
       "\n",
       "                                                Summary  \n",
       "3408     Pretty good - not as bad as others are saying.  \n",
       "1893                                 Love it! so tasty!  \n",
       "1258                      Delicious! Best custard ever!  \n",
       "3764                        This is the stuff you want.  \n",
       "4337                                Works like Bisquick  \n",
       "2188                                      Satay Noodles  \n",
       "1385                        Tastes great in iced drinks  \n",
       "908                             Sons Favorite Dinner!!!  \n",
       "664                                   My Go to sweetner  \n",
       "1915                        Great concept, poor product  \n",
       "3872                    Best decaf coffee I have tried!  \n",
       "4082                                      Works Awesome  \n",
       "2984  Large Quanity, discontinued seasonal delicious...  \n",
       "2663                                  Refreshing flavor  \n",
       "3328                                    Pleased with it  "
      ]
     },
     "execution_count": 6,
     "metadata": {},
     "output_type": "execute_result"
    }
   ],
   "source": [
    "data.sample(15)  # 데이터 샘플 출력"
   ]
  },
  {
   "cell_type": "markdown",
   "metadata": {},
   "source": [
    "데이터 전처리 하기"
   ]
  },
  {
   "cell_type": "code",
   "execution_count": 7,
   "metadata": {},
   "outputs": [
    {
     "name": "stdout",
     "output_type": "stream",
     "text": [
      "Text 열에서 중복을 배제한 유일한 샘플의 수:  4984\n",
      "Summary 열에서 중복을 배제한 유일한 샘플의 수:  4566\n"
     ]
    }
   ],
   "source": [
    "# 중복과 같은 방해가 되는 샘플 제거\n",
    "print(\"Text 열에서 중복을 배제한 유일한 샘플의 수: \", data['Text'].nunique())\n",
    "print(\"Summary 열에서 중복을 배제한 유일한 샘플의 수: \", data['Summary'].nunique())"
   ]
  },
  {
   "cell_type": "code",
   "execution_count": 8,
   "metadata": {},
   "outputs": [
    {
     "name": "stdout",
     "output_type": "stream",
     "text": [
      "전체 샘플 수:  4984\n"
     ]
    }
   ],
   "source": [
    "# 중복 샘플 제거\n",
    "data.drop_duplicates(subset=['Text'], inplace=True)\n",
    "print(\"전체 샘플 수: \", len(data))"
   ]
  },
  {
   "cell_type": "code",
   "execution_count": 9,
   "metadata": {},
   "outputs": [
    {
     "data": {
      "text/plain": [
       "Text       0\n",
       "Summary    0\n",
       "dtype: int64"
      ]
     },
     "execution_count": 9,
     "metadata": {},
     "output_type": "execute_result"
    }
   ],
   "source": [
    "data.isnull().sum()    # 데이터 프레임에 Null(:None) 값이 있는지 확인"
   ]
  },
  {
   "cell_type": "code",
   "execution_count": 10,
   "metadata": {},
   "outputs": [
    {
     "name": "stdout",
     "output_type": "stream",
     "text": [
      "전체 샘플 수: 4984\n"
     ]
    }
   ],
   "source": [
    "data.dropna(axis=0, inplace=True)  # 데이터 프레임에서 Null 값 제거\n",
    "print(\"전체 샘플 수:\", len(data))"
   ]
  },
  {
   "cell_type": "code",
   "execution_count": 11,
   "metadata": {},
   "outputs": [
    {
     "name": "stdout",
     "output_type": "stream",
     "text": [
      "정규화 사전의 수:  120\n"
     ]
    }
   ],
   "source": [
    "# 텍스트 정규화: 같은 의미인데도 다른 단어로 인식되지 않게 같은 표현으로 통일하는 것\n",
    "# ex) it'll = it will, we're = we are 등...\n",
    "contractions = {\"ain't\": \"is not\", \"aren't\": \"are not\",\"can't\": \"cannot\", \"'cause\": \"because\", \"could've\": \"could have\", \"couldn't\": \"could not\",\n",
    "                           \"didn't\": \"did not\",  \"doesn't\": \"does not\", \"don't\": \"do not\", \"hadn't\": \"had not\", \"hasn't\": \"has not\", \"haven't\": \"have not\",\n",
    "                           \"he'd\": \"he would\",\"he'll\": \"he will\", \"he's\": \"he is\", \"how'd\": \"how did\", \"how'd'y\": \"how do you\", \"how'll\": \"how will\", \"how's\": \"how is\",\n",
    "                           \"I'd\": \"I would\", \"I'd've\": \"I would have\", \"I'll\": \"I will\", \"I'll've\": \"I will have\",\"I'm\": \"I am\", \"I've\": \"I have\", \"i'd\": \"i would\",\n",
    "                           \"i'd've\": \"i would have\", \"i'll\": \"i will\",  \"i'll've\": \"i will have\",\"i'm\": \"i am\", \"i've\": \"i have\", \"isn't\": \"is not\", \"it'd\": \"it would\",\n",
    "                           \"it'd've\": \"it would have\", \"it'll\": \"it will\", \"it'll've\": \"it will have\",\"it's\": \"it is\", \"let's\": \"let us\", \"ma'am\": \"madam\",\n",
    "                           \"mayn't\": \"may not\", \"might've\": \"might have\",\"mightn't\": \"might not\",\"mightn't've\": \"might not have\", \"must've\": \"must have\",\n",
    "                           \"mustn't\": \"must not\", \"mustn't've\": \"must not have\", \"needn't\": \"need not\", \"needn't've\": \"need not have\",\"o'clock\": \"of the clock\",\n",
    "                           \"oughtn't\": \"ought not\", \"oughtn't've\": \"ought not have\", \"shan't\": \"shall not\", \"sha'n't\": \"shall not\", \"shan't've\": \"shall not have\",\n",
    "                           \"she'd\": \"she would\", \"she'd've\": \"she would have\", \"she'll\": \"she will\", \"she'll've\": \"she will have\", \"she's\": \"she is\",\n",
    "                           \"should've\": \"should have\", \"shouldn't\": \"should not\", \"shouldn't've\": \"should not have\", \"so've\": \"so have\",\"so's\": \"so as\",\n",
    "                           \"this's\": \"this is\",\"that'd\": \"that would\", \"that'd've\": \"that would have\", \"that's\": \"that is\", \"there'd\": \"there would\",\n",
    "                           \"there'd've\": \"there would have\", \"there's\": \"there is\", \"here's\": \"here is\",\"they'd\": \"they would\", \"they'd've\": \"they would have\",\n",
    "                           \"they'll\": \"they will\", \"they'll've\": \"they will have\", \"they're\": \"they are\", \"they've\": \"they have\", \"to've\": \"to have\",\n",
    "                           \"wasn't\": \"was not\", \"we'd\": \"we would\", \"we'd've\": \"we would have\", \"we'll\": \"we will\", \"we'll've\": \"we will have\", \"we're\": \"we are\",\n",
    "                           \"we've\": \"we have\", \"weren't\": \"were not\", \"what'll\": \"what will\", \"what'll've\": \"what will have\", \"what're\": \"what are\",\n",
    "                           \"what's\": \"what is\", \"what've\": \"what have\", \"when's\": \"when is\", \"when've\": \"when have\", \"where'd\": \"where did\", \"where's\": \"where is\",\n",
    "                           \"where've\": \"where have\", \"who'll\": \"who will\", \"who'll've\": \"who will have\", \"who's\": \"who is\", \"who've\": \"who have\",\n",
    "                           \"why's\": \"why is\", \"why've\": \"why have\", \"will've\": \"will have\", \"won't\": \"will not\", \"won't've\": \"will not have\",\n",
    "                           \"would've\": \"would have\", \"wouldn't\": \"would not\", \"wouldn't've\": \"would not have\", \"y'all\": \"you all\",\n",
    "                           \"y'all'd\": \"you all would\",\"y'all'd've\": \"you all would have\",\"y'all're\": \"you all are\",\"y'all've\": \"you all have\",\n",
    "                           \"you'd\": \"you would\", \"you'd've\": \"you would have\", \"you'll\": \"you will\", \"you'll've\": \"you will have\",\n",
    "                           \"you're\": \"you are\", \"you've\": \"you have\"}\n",
    "\n",
    "print(\"정규화 사전의 수: \",len(contractions))"
   ]
  },
  {
   "cell_type": "code",
   "execution_count": 12,
   "metadata": {},
   "outputs": [
    {
     "name": "stdout",
     "output_type": "stream",
     "text": [
      "불용어의 개수 :  179\n",
      "['i', 'me', 'my', 'myself', 'we', 'our', 'ours', 'ourselves', 'you', \"you're\", \"you've\", \"you'll\", \"you'd\", 'your', 'yours', 'yourself', 'yourselves', 'he', 'him', 'his', 'himself', 'she', \"she's\", 'her', 'hers', 'herself', 'it', \"it's\", 'its', 'itself', 'they', 'them', 'their', 'theirs', 'themselves', 'what', 'which', 'who', 'whom', 'this', 'that', \"that'll\", 'these', 'those', 'am', 'is', 'are', 'was', 'were', 'be', 'been', 'being', 'have', 'has', 'had', 'having', 'do', 'does', 'did', 'doing', 'a', 'an', 'the', 'and', 'but', 'if', 'or', 'because', 'as', 'until', 'while', 'of', 'at', 'by', 'for', 'with', 'about', 'against', 'between', 'into', 'through', 'during', 'before', 'after', 'above', 'below', 'to', 'from', 'up', 'down', 'in', 'out', 'on', 'off', 'over', 'under', 'again', 'further', 'then', 'once', 'here', 'there', 'when', 'where', 'why', 'how', 'all', 'any', 'both', 'each', 'few', 'more', 'most', 'other', 'some', 'such', 'no', 'nor', 'not', 'only', 'own', 'same', 'so', 'than', 'too', 'very', 's', 't', 'can', 'will', 'just', 'don', \"don't\", 'should', \"should've\", 'now', 'd', 'll', 'm', 'o', 're', 've', 'y', 'ain', 'aren', \"aren't\", 'couldn', \"couldn't\", 'didn', \"didn't\", 'doesn', \"doesn't\", 'hadn', \"hadn't\", 'hasn', \"hasn't\", 'haven', \"haven't\", 'isn', \"isn't\", 'ma', 'mightn', \"mightn't\", 'mustn', \"mustn't\", 'needn', \"needn't\", 'shan', \"shan't\", 'shouldn', \"shouldn't\", 'wasn', \"wasn't\", 'weren', \"weren't\", 'won', \"won't\", 'wouldn', \"wouldn't\"]\n"
     ]
    }
   ],
   "source": [
    "# 불용어: 텍스트에 자주 등장하지만 자연어 처리를 할 때 실질적으로 별 도움이 되지 않는 단어\n",
    "print(\"불용어의 개수 : \", len(stopwords.words('english')))\n",
    "print(stopwords.words('english'))\n",
    "# NLTK에서 미리 정의하여 제공하고 있는 불용어 불러오기."
   ]
  },
  {
   "cell_type": "code",
   "execution_count": 13,
   "metadata": {},
   "outputs": [],
   "source": [
    "# 데이터 전처리 함수\n",
    "def preprocess_sentence(sentence, remove_stopwords = True):\n",
    "    sentence = sentence.lower() # 텍스트 소문자화\n",
    "    sentence = BeautifulSoup(sentence, 'lxml').text # html 태그 제거\n",
    "    sentence = re.sub(r'\\([^)]*\\)', '', sentence) # 괄호로 닫힌 문자열 (...) 제거 Ex) my husband (and myself!) for => my husband for\n",
    "    sentence = re.sub('\"','', sentence) # 쌍따옴표 \" 제거\n",
    "    sentence = ' '.join([contractions[t] if t in contractions else t for t in sentence.split(\" \")]) # 약어 정규화\n",
    "    sentence = re.sub(r\"'s\\b\",\"\",sentence) # 소유격 제거. Ex) roland's -> roland\n",
    "    sentence = re.sub(\"[^a-zA-Z]\", \" \", sentence) # 영어 외 문자(숫자, 특수문자 등) 공백으로 변환\n",
    "    sentence = re.sub('[m]{2,}', 'mm', sentence) # m이 3개 이상이면 2개로 변경. Ex) ummmmmmm yeah -> umm yeah\n",
    "\n",
    "    # 불용어 제거 (text)\n",
    "    if remove_stopwords:\n",
    "        tokens = ' '.join(word for word in sentence.split() if not word in stopwords.words('english') if len(word) > 1)\n",
    "    else:\n",
    "        tokens = ' '.join(word for word in sentence.split() if len(word) > 1)\n",
    "    \n",
    "    return tokens"
   ]
  },
  {
   "cell_type": "code",
   "execution_count": 14,
   "metadata": {},
   "outputs": [
    {
     "name": "stdout",
     "output_type": "stream",
     "text": [
      "everything bought great infact ordered twice third ordered wasfor mother father\n",
      "great way to start the day\n"
     ]
    }
   ],
   "source": [
    "# 테스트\n",
    "temp_text = 'Everything I bought was great, infact I ordered twice and the third ordered was<br />for my mother and father.'\n",
    "temp_summary = 'Great way to start (or finish) the day!!!'\n",
    "\n",
    "print(preprocess_sentence(temp_text))\n",
    "print(preprocess_sentence(temp_summary, False))  # 불용어를 제거하지 않습니다."
   ]
  },
  {
   "cell_type": "code",
   "execution_count": 15,
   "metadata": {},
   "outputs": [
    {
     "data": {
      "text/plain": [
       "['bought several vitality canned dog food products found good quality product looks like stew processed meat smells better labrador finicky appreciates product better',\n",
       " 'product arrived labeled jumbo salted peanuts peanuts actually small sized unsalted sure error vendor intended represent product jumbo',\n",
       " 'confection around centuries light pillowy citrus gelatin nuts case filberts cut tiny squares liberally coated powdered sugar tiny mouthful heaven chewy flavorful highly recommend yummy treat familiar story lewis lion witch wardrobe treat seduces edmund selling brother sisters witch',\n",
       " 'looking secret ingredient robitussin believe found got addition root beer extract ordered made cherry soda flavor medicinal',\n",
       " 'great taffy great price wide assortment yummy taffy delivery quick taffy lover deal']"
      ]
     },
     "execution_count": 15,
     "metadata": {},
     "output_type": "execute_result"
    }
   ],
   "source": [
    "clean_text = []\n",
    "# 전체 Text 데이터에 대한 전처리 : 오래걸림\n",
    "for s in data['Text']:\n",
    "    clean_text.append(preprocess_sentence(s))  # 너무 안 돌아가서 50000개로 줄임.\n",
    "clean_text[:5]"
   ]
  },
  {
   "cell_type": "code",
   "execution_count": 16,
   "metadata": {},
   "outputs": [
    {
     "data": {
      "text/plain": [
       "['good quality dog food',\n",
       " 'not as advertised',\n",
       " 'delight says it all',\n",
       " 'cough medicine',\n",
       " 'great taffy']"
      ]
     },
     "execution_count": 16,
     "metadata": {},
     "output_type": "execute_result"
    }
   ],
   "source": [
    "clean_summary = []\n",
    "# 전체 Summary 데이터에 대한 전처리 : 오래걸림\n",
    "for s in data['Summary']:\n",
    "    clean_summary.append(preprocess_sentence(s, 0))\n",
    "clean_summary[:5]"
   ]
  },
  {
   "cell_type": "code",
   "execution_count": 17,
   "metadata": {},
   "outputs": [],
   "source": [
    "# 전처리 후의 결과를 다시 데이터 프레임에 저장\n",
    "data['Text'] = clean_text\n",
    "data['Summary'] = clean_summary"
   ]
  },
  {
   "cell_type": "code",
   "execution_count": 18,
   "metadata": {},
   "outputs": [
    {
     "name": "stdout",
     "output_type": "stream",
     "text": [
      "Text       0\n",
      "Summary    3\n",
      "dtype: int64\n"
     ]
    }
   ],
   "source": [
    "# 공백이 생겼다면 null 값으로 변환\n",
    "data.replace('', np.nan, inplace=True)\n",
    "print(data.isnull().sum())"
   ]
  },
  {
   "cell_type": "code",
   "execution_count": 19,
   "metadata": {},
   "outputs": [
    {
     "name": "stdout",
     "output_type": "stream",
     "text": [
      "전체 샘플 수 :  4981\n"
     ]
    }
   ],
   "source": [
    "# null 값을 가지는 샘플을 제거한 뒤 전체 샘플 수 확인.\n",
    "data.dropna(axis = 0, inplace = True)\n",
    "print('전체 샘플 수 : ',(len(data)))"
   ]
  },
  {
   "cell_type": "code",
   "execution_count": 20,
   "metadata": {},
   "outputs": [
    {
     "name": "stdout",
     "output_type": "stream",
     "text": [
      "텍스트의 최소 길이 : 4\n",
      "텍스트의 최대 길이 : 449\n",
      "텍스트의 평균 길이 : 35.75025095362377\n",
      "요약의 최소 길이 : 1\n",
      "요약의 최대 길이 : 22\n",
      "요약의 평균 길이 : 3.9184902629993976\n"
     ]
    },
    {
     "data": {
      "image/png": "[encoded data removed]",
      "text/plain": [
       "<Figure size 432x288 with 2 Axes>"
      ]
     },
     "metadata": {
      "needs_background": "light"
     },
     "output_type": "display_data"
    },
    {
     "data": {
      "image/png": "[encoded data removed]",
      "text/plain": [
       "<Figure size 432x288 with 1 Axes>"
      ]
     },
     "metadata": {
      "needs_background": "light"
     },
     "output_type": "display_data"
    },
    {
     "data": {
      "image/png": "[encoded data removed]",
      "text/plain": [
       "<Figure size 432x288 with 1 Axes>"
      ]
     },
     "metadata": {
      "needs_background": "light"
     },
     "output_type": "display_data"
    }
   ],
   "source": [
    "# 길이 분포 확인.\n",
    "# 각 텍스트를 공백을 기준으로 쪼갠 다음에 길이 확인. 즉, 단어의 개수\n",
    "text_len = [len(s.split()) for s in data['Text']] \n",
    "summary_len = [len(s.split()) for s in data['Summary']] \n",
    "\n",
    "# {} 안에 fotmat()안의 인자가 들어간다.\n",
    "print('텍스트의 최소 길이 : {}'.format(np.min(text_len)))\n",
    "print('텍스트의 최대 길이 : {}'.format(np.max(text_len)))\n",
    "print('텍스트의 평균 길이 : {}'.format(np.mean(text_len)))\n",
    "print('요약의 최소 길이 : {}'.format(np.min(summary_len)))\n",
    "print('요약의 최대 길이 : {}'.format(np.max(summary_len)))\n",
    "print('요약의 평균 길이 : {}'.format(np.mean(summary_len)))\n",
    "\n",
    "\n",
    "# 그래프로 표현하기\n",
    "plt.subplot(1,2,1)\n",
    "plt.boxplot(summary_len)\n",
    "plt.title('Summary')\n",
    "plt.subplot(1,2,2)\n",
    "plt.boxplot(text_len)\n",
    "plt.title('Text')\n",
    "plt.tight_layout()\n",
    "plt.show()\n",
    "\n",
    "plt.title('Summary')\n",
    "plt.hist(summary_len, bins=40)\n",
    "plt.xlabel('length of samples')\n",
    "plt.ylabel('number of samples')\n",
    "plt.show()\n",
    "\n",
    "plt.title('Text')\n",
    "plt.hist(text_len, bins=40)\n",
    "plt.xlabel('length of samples')\n",
    "plt.ylabel('number of samples')\n",
    "plt.show()"
   ]
  },
  {
   "cell_type": "markdown",
   "metadata": {},
   "source": [
    "패딩: 데이터에 특정 값을 채워서 데이터의 크기를 조정.\n",
    "패딩의 값을 정하는 것은 컴퓨터가 길이가 같은 문서들을 한꺼번에 묶어서 처리할 수 있기 때문임. \n",
    "패딩의 길이를 정하고 그것보다 큰 길이의 문서는 제거, 그것보다 작은 길이의 문서에는 실제 의미가 없는 0번 단어(컴퓨터가 무시함)을 채워 데이터 크기를 조정한다."
   ]
  },
  {
   "cell_type": "code",
   "execution_count": 21,
   "metadata": {},
   "outputs": [],
   "source": [
    "text_max_len = 45\n",
    "summary_max_len = 6"
   ]
  },
  {
   "cell_type": "code",
   "execution_count": 22,
   "metadata": {},
   "outputs": [],
   "source": [
    "# 패딩 길이가 샘플들의 길이와 얼마나 차이가 나는지 확인하는 함수\n",
    "def below_threshold_len(max_len, nested_list):\n",
    "    cnt = 0\n",
    "    for s in nested_list:\n",
    "        if(len(s.split()) <= max_len):\n",
    "            cnt = cnt + 1\n",
    "    print('전체 샘플 중 길이가 %s 이하인 샘플의 비율: %s'%(max_len, (cnt / len(nested_list))))"
   ]
  },
  {
   "cell_type": "code",
   "execution_count": 23,
   "metadata": {},
   "outputs": [
    {
     "name": "stdout",
     "output_type": "stream",
     "text": [
      "전체 샘플 중 길이가 45 이하인 샘플의 비율: 0.7723348725155591\n"
     ]
    }
   ],
   "source": [
    "below_threshold_len(text_max_len, data['Text'])"
   ]
  },
  {
   "cell_type": "code",
   "execution_count": 24,
   "metadata": {},
   "outputs": [
    {
     "name": "stdout",
     "output_type": "stream",
     "text": [
      "전체 샘플 중 길이가 6 이하인 샘플의 비율: 0.8711102188315599\n"
     ]
    }
   ],
   "source": [
    "below_threshold_len(summary_max_len, data['Summary'])"
   ]
  },
  {
   "cell_type": "code",
   "execution_count": 25,
   "metadata": {},
   "outputs": [
    {
     "name": "stdout",
     "output_type": "stream",
     "text": [
      "전체 샘플수 : 3478\n"
     ]
    },
    {
     "data": {
      "text/html": [
       "<div>\n",
       "<style scoped>\n",
       "    .dataframe tbody tr th:only-of-type {\n",
       "        vertical-align: middle;\n",
       "    }\n",
       "\n",
       "    .dataframe tbody tr th {\n",
       "        vertical-align: top;\n",
       "    }\n",
       "\n",
       "    .dataframe thead th {\n",
       "        text-align: right;\n",
       "    }\n",
       "</style>\n",
       "<table border=\"1\" class=\"dataframe\">\n",
       "  <thead>\n",
       "    <tr style=\"text-align: right;\">\n",
       "      <th></th>\n",
       "      <th>Text</th>\n",
       "      <th>Summary</th>\n",
       "    </tr>\n",
       "  </thead>\n",
       "  <tbody>\n",
       "    <tr>\n",
       "      <th>0</th>\n",
       "      <td>bought several vitality canned dog food produc...</td>\n",
       "      <td>good quality dog food</td>\n",
       "    </tr>\n",
       "    <tr>\n",
       "      <th>1</th>\n",
       "      <td>product arrived labeled jumbo salted peanuts p...</td>\n",
       "      <td>not as advertised</td>\n",
       "    </tr>\n",
       "    <tr>\n",
       "      <th>2</th>\n",
       "      <td>confection around centuries light pillowy citr...</td>\n",
       "      <td>delight says it all</td>\n",
       "    </tr>\n",
       "    <tr>\n",
       "      <th>3</th>\n",
       "      <td>looking secret ingredient robitussin believe f...</td>\n",
       "      <td>cough medicine</td>\n",
       "    </tr>\n",
       "    <tr>\n",
       "      <th>4</th>\n",
       "      <td>great taffy great price wide assortment yummy ...</td>\n",
       "      <td>great taffy</td>\n",
       "    </tr>\n",
       "  </tbody>\n",
       "</table>\n",
       "</div>"
      ],
      "text/plain": [
       "                                                Text                Summary\n",
       "0  bought several vitality canned dog food produc...  good quality dog food\n",
       "1  product arrived labeled jumbo salted peanuts p...      not as advertised\n",
       "2  confection around centuries light pillowy citr...    delight says it all\n",
       "3  looking secret ingredient robitussin believe f...         cough medicine\n",
       "4  great taffy great price wide assortment yummy ...            great taffy"
      ]
     },
     "execution_count": 25,
     "metadata": {},
     "output_type": "execute_result"
    }
   ],
   "source": [
    "# 패딩 길이보다 큰 길이의 샘플 삭제 후 남은 샘플 수 확인\n",
    "data = data[data['Text'].apply(lambda x: len(x.split()) <= text_max_len)]\n",
    "data = data[data['Summary'].apply(lambda x: len(x.split()) <= summary_max_len)]\n",
    "print('전체 샘플수 :',(len(data)))\n",
    "data.head()"
   ]
  },
  {
   "cell_type": "code",
   "execution_count": 26,
   "metadata": {},
   "outputs": [
    {
     "data": {
      "text/html": [
       "<div>\n",
       "<style scoped>\n",
       "    .dataframe tbody tr th:only-of-type {\n",
       "        vertical-align: middle;\n",
       "    }\n",
       "\n",
       "    .dataframe tbody tr th {\n",
       "        vertical-align: top;\n",
       "    }\n",
       "\n",
       "    .dataframe thead th {\n",
       "        text-align: right;\n",
       "    }\n",
       "</style>\n",
       "<table border=\"1\" class=\"dataframe\">\n",
       "  <thead>\n",
       "    <tr style=\"text-align: right;\">\n",
       "      <th></th>\n",
       "      <th>Text</th>\n",
       "      <th>Summary</th>\n",
       "      <th>decoder_input</th>\n",
       "      <th>decoder_target</th>\n",
       "    </tr>\n",
       "  </thead>\n",
       "  <tbody>\n",
       "    <tr>\n",
       "      <th>0</th>\n",
       "      <td>bought several vitality canned dog food produc...</td>\n",
       "      <td>good quality dog food</td>\n",
       "      <td>sostoken good quality dog food</td>\n",
       "      <td>good quality dog food eostoken</td>\n",
       "    </tr>\n",
       "    <tr>\n",
       "      <th>1</th>\n",
       "      <td>product arrived labeled jumbo salted peanuts p...</td>\n",
       "      <td>not as advertised</td>\n",
       "      <td>sostoken not as advertised</td>\n",
       "      <td>not as advertised eostoken</td>\n",
       "    </tr>\n",
       "    <tr>\n",
       "      <th>2</th>\n",
       "      <td>confection around centuries light pillowy citr...</td>\n",
       "      <td>delight says it all</td>\n",
       "      <td>sostoken delight says it all</td>\n",
       "      <td>delight says it all eostoken</td>\n",
       "    </tr>\n",
       "    <tr>\n",
       "      <th>3</th>\n",
       "      <td>looking secret ingredient robitussin believe f...</td>\n",
       "      <td>cough medicine</td>\n",
       "      <td>sostoken cough medicine</td>\n",
       "      <td>cough medicine eostoken</td>\n",
       "    </tr>\n",
       "    <tr>\n",
       "      <th>4</th>\n",
       "      <td>great taffy great price wide assortment yummy ...</td>\n",
       "      <td>great taffy</td>\n",
       "      <td>sostoken great taffy</td>\n",
       "      <td>great taffy eostoken</td>\n",
       "    </tr>\n",
       "  </tbody>\n",
       "</table>\n",
       "</div>"
      ],
      "text/plain": [
       "                                                Text                Summary  \\\n",
       "0  bought several vitality canned dog food produc...  good quality dog food   \n",
       "1  product arrived labeled jumbo salted peanuts p...      not as advertised   \n",
       "2  confection around centuries light pillowy citr...    delight says it all   \n",
       "3  looking secret ingredient robitussin believe f...         cough medicine   \n",
       "4  great taffy great price wide assortment yummy ...            great taffy   \n",
       "\n",
       "                    decoder_input                  decoder_target  \n",
       "0  sostoken good quality dog food  good quality dog food eostoken  \n",
       "1      sostoken not as advertised      not as advertised eostoken  \n",
       "2    sostoken delight says it all    delight says it all eostoken  \n",
       "3         sostoken cough medicine         cough medicine eostoken  \n",
       "4            sostoken great taffy            great taffy eostoken  "
      ]
     },
     "execution_count": 26,
     "metadata": {},
     "output_type": "execute_result"
    }
   ],
   "source": [
    "# seq2seq 훈련을 위해 디코더의 입력과 레이블에 시작 토큰과 종료 토큰을 앞뒤에 추가.\n",
    "data['decoder_input'] = data['Summary'].apply(lambda x : 'sostoken '+ x)\n",
    "data['decoder_target'] = data['Summary'].apply(lambda x : x + ' eostoken')\n",
    "data.head()"
   ]
  },
  {
   "cell_type": "code",
   "execution_count": 27,
   "metadata": {},
   "outputs": [],
   "source": [
    "encoder_input = np.array(data['Text'])\n",
    "decoder_input = np.array(data['decoder_input'])\n",
    "decoder_target = np.array(data['decoder_target'])"
   ]
  },
  {
   "cell_type": "markdown",
   "metadata": {},
   "source": [
    "데이터 분리(훈련용과 테스트용)"
   ]
  },
  {
   "cell_type": "code",
   "execution_count": 28,
   "metadata": {},
   "outputs": [
    {
     "name": "stdout",
     "output_type": "stream",
     "text": [
      "[3427 2483 2254 ... 1205  845  521]\n"
     ]
    }
   ],
   "source": [
    "# 순서가 섞인 정수 시퀀스\n",
    "indices = np.arange(encoder_input.shape[0])\n",
    "np.random.shuffle(indices)\n",
    "print(indices)"
   ]
  },
  {
   "cell_type": "code",
   "execution_count": 29,
   "metadata": {},
   "outputs": [],
   "source": [
    "# 순서가 섞인 시퀀스를 데이터의 샘플 순서로 정의 > 샘플의 순서가 섞인다.\n",
    "encoder_input = encoder_input[indices]\n",
    "decoder_input = decoder_input[indices]\n",
    "decoder_target = decoder_target[indices]"
   ]
  },
  {
   "cell_type": "code",
   "execution_count": 30,
   "metadata": {},
   "outputs": [
    {
     "name": "stdout",
     "output_type": "stream",
     "text": [
      "테스트 데이터의 수 : 695\n"
     ]
    }
   ],
   "source": [
    "# 20%를 테스트 데이터로 분류\n",
    "n_of_val = int(len(encoder_input)*0.2)\n",
    "print('테스트 데이터의 수 :',n_of_val)"
   ]
  },
  {
   "cell_type": "code",
   "execution_count": 31,
   "metadata": {},
   "outputs": [],
   "source": [
    "encoder_input_train = encoder_input[:-n_of_val]\n",
    "decoder_input_train = decoder_input[:-n_of_val]\n",
    "decoder_target_train = decoder_target[:-n_of_val]\n",
    "\n",
    "encoder_input_test = encoder_input[-n_of_val:]\n",
    "decoder_input_test = decoder_input[-n_of_val:]\n",
    "decoder_target_test = decoder_target[-n_of_val:]"
   ]
  },
  {
   "cell_type": "code",
   "execution_count": 32,
   "metadata": {},
   "outputs": [
    {
     "name": "stdout",
     "output_type": "stream",
     "text": [
      "훈련 데이터의 개수 : 2783\n",
      "훈련 레이블의 개수 : 2783\n",
      "테스트 데이터의 개수 : 695\n",
      "테스트 레이블의 개수 : 695\n"
     ]
    }
   ],
   "source": [
    "print('훈련 데이터의 개수 :', len(encoder_input_train))\n",
    "print('훈련 레이블의 개수 :',len(decoder_input_train))\n",
    "print('테스트 데이터의 개수 :',len(encoder_input_test))\n",
    "print('테스트 레이블의 개수 :',len(decoder_input_test))"
   ]
  },
  {
   "cell_type": "code",
   "execution_count": 33,
   "metadata": {},
   "outputs": [],
   "source": [
    "# 텍스트를 숫자로 처리할 수 있게 데이터에 정수 인코딩 수행, 단어 집합 생성.\n",
    "src_tokenizer = Tokenizer()\n",
    "src_tokenizer.fit_on_texts(encoder_input_train)"
   ]
  },
  {
   "cell_type": "code",
   "execution_count": 34,
   "metadata": {},
   "outputs": [
    {
     "name": "stdout",
     "output_type": "stream",
     "text": [
      "단어 집합(vocabulary)의 크기 : 7055\n",
      "등장 빈도가 6번 이하인 희귀 단어의 수: 5607\n",
      "단어 집합에서 희귀 단어를 제외시킬 경우의 단어 집합의 크기 1448\n",
      "단어 집합에서 희귀 단어의 비율: 79.47554925584693\n",
      "전체 등장 빈도에서 희귀 단어 등장 빈도 비율: 16.751358261425374\n"
     ]
    }
   ],
   "source": [
    "threshold = 7\n",
    "total_cnt = len(src_tokenizer.word_index) # 단어의 수\n",
    "rare_cnt = 0 # 등장 빈도수가 threshold보다 작은 단어의 개수를 카운트\n",
    "total_freq = 0 # 훈련 데이터의 전체 단어 빈도수 총 합\n",
    "rare_freq = 0 # 등장 빈도수가 threshold보다 작은 단어의 등장 빈도수의 총 합\n",
    "\n",
    "# 단어와 빈도수의 쌍(pair)을 key와 value로 받는다.\n",
    "for key, value in src_tokenizer.word_counts.items():\n",
    "    total_freq = total_freq + value\n",
    "\n",
    "    # 단어의 등장 빈도수가 threshold보다 작으면\n",
    "    if(value < threshold):\n",
    "        rare_cnt = rare_cnt + 1\n",
    "        rare_freq = rare_freq + value\n",
    "\n",
    "print('단어 집합(vocabulary)의 크기 :',total_cnt)\n",
    "print('등장 빈도가 %s번 이하인 희귀 단어의 수: %s'%(threshold - 1, rare_cnt))\n",
    "print('단어 집합에서 희귀 단어를 제외시킬 경우의 단어 집합의 크기 %s'%(total_cnt - rare_cnt))\n",
    "print(\"단어 집합에서 희귀 단어의 비율:\", (rare_cnt / total_cnt)*100)\n",
    "print(\"전체 등장 빈도에서 희귀 단어 등장 빈도 비율:\", (rare_freq / total_freq)*100)"
   ]
  },
  {
   "cell_type": "code",
   "execution_count": 35,
   "metadata": {},
   "outputs": [],
   "source": [
    "# 단어 집합의 수를 제한해 정수 인코딩 실행.\n",
    "src_vocab = 1400\n",
    "src_tokenizer = Tokenizer(num_words = src_vocab) \n",
    "src_tokenizer.fit_on_texts(encoder_input_train)\n",
    "\n",
    "# 텍스트 시퀀스를 정수 시퀀스로 변환\n",
    "encoder_input_train = src_tokenizer.texts_to_sequences(encoder_input_train) \n",
    "encoder_input_test = src_tokenizer.texts_to_sequences(encoder_input_test)"
   ]
  },
  {
   "cell_type": "code",
   "execution_count": 36,
   "metadata": {},
   "outputs": [
    {
     "name": "stdout",
     "output_type": "stream",
     "text": [
      "[[34, 16, 738, 1065, 110, 132, 270, 1297, 247, 4, 13, 80, 738, 129, 9, 29, 57, 216, 9, 35], [551, 1, 17, 8, 395, 208, 628, 395, 442, 495, 15, 1167, 47, 3, 2, 270, 415, 739, 25, 176], [1168, 12, 24, 4, 209, 132, 92, 42, 213, 700, 1298, 24, 824, 991]]\n"
     ]
    }
   ],
   "source": [
    "# 정수 인코딩이 제대로 되었는지 확인\n",
    "print(encoder_input_train[:3])"
   ]
  },
  {
   "cell_type": "code",
   "execution_count": 37,
   "metadata": {},
   "outputs": [],
   "source": [
    "# 레이블에 해당하는 데이터도 요약\n",
    "tar_tokenizer = Tokenizer()\n",
    "tar_tokenizer.fit_on_texts(decoder_input_train)"
   ]
  },
  {
   "cell_type": "code",
   "execution_count": 38,
   "metadata": {},
   "outputs": [
    {
     "name": "stdout",
     "output_type": "stream",
     "text": [
      "단어 집합(vocabulary)의 크기 : 1810\n",
      "등장 빈도가 5번 이하인 희귀 단어의 수: 1573\n",
      "단어 집합에서 희귀 단어를 제외시킬 경우의 단어 집합의 크기 237\n",
      "단어 집합에서 희귀 단어의 비율: 86.9060773480663\n",
      "전체 등장 빈도에서 희귀 단어 등장 빈도 비율: 23.119801804990267\n"
     ]
    }
   ],
   "source": [
    "threshold = 6\n",
    "total_cnt = len(tar_tokenizer.word_index) # 단어의 수\n",
    "rare_cnt = 0 # 등장 빈도수가 threshold보다 작은 단어의 개수를 카운트\n",
    "total_freq = 0 # 훈련 데이터의 전체 단어 빈도수 총 합\n",
    "rare_freq = 0 # 등장 빈도수가 threshold보다 작은 단어의 등장 빈도수의 총 합\n",
    "\n",
    "# 단어와 빈도수의 쌍(pair)을 key와 value로 받는다.\n",
    "for key, value in tar_tokenizer.word_counts.items():\n",
    "    total_freq = total_freq + value\n",
    "\n",
    "    # 단어의 등장 빈도수가 threshold보다 작으면\n",
    "    if(value < threshold):\n",
    "        rare_cnt = rare_cnt + 1\n",
    "        rare_freq = rare_freq + value\n",
    "\n",
    "print('단어 집합(vocabulary)의 크기 :',total_cnt)\n",
    "print('등장 빈도가 %s번 이하인 희귀 단어의 수: %s'%(threshold - 1, rare_cnt))\n",
    "print('단어 집합에서 희귀 단어를 제외시킬 경우의 단어 집합의 크기 %s'%(total_cnt - rare_cnt))\n",
    "print(\"단어 집합에서 희귀 단어의 비율:\", (rare_cnt / total_cnt)*100)\n",
    "print(\"전체 등장 빈도에서 희귀 단어 등장 빈도 비율:\", (rare_freq / total_freq)*100)"
   ]
  },
  {
   "cell_type": "code",
   "execution_count": 39,
   "metadata": {},
   "outputs": [],
   "source": [
    "tar_vocab = 200\n",
    "tar_tokenizer = Tokenizer(num_words = tar_vocab) \n",
    "tar_tokenizer.fit_on_texts(decoder_input_train)\n",
    "tar_tokenizer.fit_on_texts(decoder_target_train)"
   ]
  },
  {
   "cell_type": "code",
   "execution_count": 40,
   "metadata": {},
   "outputs": [],
   "source": [
    "# 텍스트 시퀀스를 정수 시퀀스로 변환\n",
    "decoder_input_train = tar_tokenizer.texts_to_sequences(decoder_input_train) \n",
    "decoder_target_train = tar_tokenizer.texts_to_sequences(decoder_target_train)\n",
    "decoder_input_test = tar_tokenizer.texts_to_sequences(decoder_input_test)\n",
    "decoder_target_test = tar_tokenizer.texts_to_sequences(decoder_target_test)"
   ]
  },
  {
   "cell_type": "code",
   "execution_count": 41,
   "metadata": {},
   "outputs": [
    {
     "name": "stdout",
     "output_type": "stream",
     "text": [
      "[[1, 49, 7, 19], [1, 50, 38, 5, 4], [1, 5, 6, 37, 17, 113, 179], [1, 8, 38, 70, 30, 60], [1, 154, 155, 114]]\n",
      "[[49, 7, 19, 2], [50, 38, 5, 4, 2], [5, 6, 37, 17, 113, 179, 2], [8, 38, 70, 30, 60, 2], [154, 155, 114, 2]]\n"
     ]
    }
   ],
   "source": [
    "print(decoder_input_train[:5])\n",
    "print(decoder_target_train[:5])"
   ]
  },
  {
   "cell_type": "code",
   "execution_count": 42,
   "metadata": {},
   "outputs": [
    {
     "name": "stdout",
     "output_type": "stream",
     "text": [
      "삭제할 훈련 데이터의 개수 : 341\n",
      "삭제할 테스트 데이터의 개수 : 89\n"
     ]
    }
   ],
   "source": [
    "# 빈 샘플 제거. 길이가 0이 된 요약문의 실질적 길이는 모든 요약문에 추가된 토큰에 의해 1.\n",
    "drop_train = [index for index, sentence in enumerate(decoder_input_train) if len(sentence) == 1]\n",
    "drop_test = [index for index, sentence in enumerate(decoder_input_test) if len(sentence) == 1]\n",
    "\n",
    "print('삭제할 훈련 데이터의 개수 :',len(drop_train))\n",
    "print('삭제할 테스트 데이터의 개수 :',len(drop_test))"
   ]
  },
  {
   "cell_type": "code",
   "execution_count": 43,
   "metadata": {},
   "outputs": [
    {
     "name": "stdout",
     "output_type": "stream",
     "text": [
      "훈련 데이터의 개수 : 2442\n",
      "훈련 레이블의 개수 : 2442\n",
      "테스트 데이터의 개수 : 606\n",
      "테스트 레이블의 개수 : 606\n"
     ]
    },
    {
     "name": "stderr",
     "output_type": "stream",
     "text": [
      "C:\\Users\\anaconda\\anaconda3\\lib\\site-packages\\numpy\\core\\_asarray.py:83: VisibleDeprecationWarning: Creating an ndarray from ragged nested sequences (which is a list-or-tuple of lists-or-tuples-or ndarrays with different lengths or shapes) is deprecated. If you meant to do this, you must specify 'dtype=object' when creating the ndarray\n",
      "  return array(a, dtype, copy=False, order=order)\n"
     ]
    }
   ],
   "source": [
    "encoder_input_train = np.delete(encoder_input_train, drop_train, axis=0)\n",
    "decoder_input_train = np.delete(decoder_input_train, drop_train, axis=0)\n",
    "decoder_target_train = np.delete(decoder_target_train, drop_train, axis=0)\n",
    "\n",
    "encoder_input_test = np.delete(encoder_input_test, drop_test, axis=0)\n",
    "decoder_input_test = np.delete(decoder_input_test, drop_test, axis=0)\n",
    "decoder_target_test = np.delete(decoder_target_test, drop_test, axis=0)\n",
    "\n",
    "print('훈련 데이터의 개수 :', len(encoder_input_train))\n",
    "print('훈련 레이블의 개수 :',len(decoder_input_train))\n",
    "print('테스트 데이터의 개수 :',len(encoder_input_test))\n",
    "print('테스트 레이블의 개수 :',len(decoder_input_test))"
   ]
  },
  {
   "cell_type": "code",
   "execution_count": 44,
   "metadata": {},
   "outputs": [],
   "source": [
    "# 패딩 작업\n",
    "\n",
    "encoder_input_train = pad_sequences(encoder_input_train, maxlen = text_max_len, padding='post')\n",
    "encoder_input_test = pad_sequences(encoder_input_test, maxlen = text_max_len, padding='post')\n",
    "decoder_input_train = pad_sequences(decoder_input_train, maxlen = summary_max_len, padding='post')\n",
    "decoder_target_train = pad_sequences(decoder_target_train, maxlen = summary_max_len, padding='post')\n",
    "decoder_input_test = pad_sequences(decoder_input_test, maxlen = summary_max_len, padding='post')\n",
    "decoder_target_test = pad_sequences(decoder_target_test, maxlen = summary_max_len, padding='post')"
   ]
  },
  {
   "cell_type": "markdown",
   "metadata": {},
   "source": [
    "요약 모델 설계 및 훈련"
   ]
  },
  {
   "cell_type": "code",
   "execution_count": 45,
   "metadata": {},
   "outputs": [],
   "source": [
    "from tensorflow.keras.layers import Input, LSTM, Embedding, Dense, Concatenate\n",
    "from tensorflow.keras.models import Model\n",
    "from tensorflow.keras.callbacks import EarlyStopping, ModelCheckpoint"
   ]
  },
  {
   "cell_type": "code",
   "execution_count": 46,
   "metadata": {},
   "outputs": [],
   "source": [
    "embedding_dim = 128\n",
    "hidden_size = 256\n",
    "\n",
    "# 인코더\n",
    "encoder_inputs = Input(shape=(text_max_len,))\n",
    "\n",
    "# 인코더의 임베딩 층\n",
    "enc_emb = Embedding(src_vocab, embedding_dim)(encoder_inputs)\n",
    "\n",
    "# 인코더의 LSTM 1\n",
    "encoder_lstm1 = LSTM(hidden_size, return_sequences=True, return_state=True ,dropout = 0.4, recurrent_dropout = 0.4)\n",
    "encoder_output1, state_h1, state_c1 = encoder_lstm1(enc_emb)\n",
    "\n",
    "# 인코더의 LSTM 2\n",
    "encoder_lstm2 = LSTM(hidden_size, return_sequences=True, return_state=True, dropout=0.4, recurrent_dropout=0.4)\n",
    "encoder_output2, state_h2, state_c2 = encoder_lstm2(encoder_output1)\n",
    "\n",
    "# 인코더의 LSTM 3\n",
    "encoder_lstm3 = LSTM(hidden_size, return_state=True, return_sequences=True, dropout=0.4, recurrent_dropout=0.4)\n",
    "encoder_outputs, state_h, state_c= encoder_lstm3(encoder_output2)"
   ]
  },
  {
   "cell_type": "code",
   "execution_count": 47,
   "metadata": {},
   "outputs": [],
   "source": [
    "# 디코더. 출력층 제외하고 설계. 인코더와 동일하지만 초기 상태를 인코더의 상태로 주어야 한다.\n",
    "decoder_inputs = Input(shape=(None,))\n",
    "\n",
    "# 디코더의 임베딩 층\n",
    "dec_emb_layer = Embedding(tar_vocab, embedding_dim)\n",
    "dec_emb = dec_emb_layer(decoder_inputs)\n",
    "\n",
    "# 디코더의 LSTM\n",
    "decoder_lstm = LSTM(hidden_size, return_sequences = True, return_state = True, dropout = 0.4, recurrent_dropout=0.2)\n",
    "decoder_outputs, _, _ = decoder_lstm(dec_emb, initial_state = [state_h, state_c])"
   ]
  },
  {
   "cell_type": "code",
   "execution_count": 48,
   "metadata": {},
   "outputs": [
    {
     "name": "stdout",
     "output_type": "stream",
     "text": [
      "Model: \"model\"\n",
      "__________________________________________________________________________________________________\n",
      "Layer (type)                    Output Shape         Param #     Connected to                     \n",
      "==================================================================================================\n",
      "input_1 (InputLayer)            [(None, 45)]         0                                            \n",
      "__________________________________________________________________________________________________\n",
      "embedding (Embedding)           (None, 45, 128)      179200      input_1[0][0]                    \n",
      "__________________________________________________________________________________________________\n",
      "lstm (LSTM)                     [(None, 45, 256), (N 394240      embedding[0][0]                  \n",
      "__________________________________________________________________________________________________\n",
      "input_2 (InputLayer)            [(None, None)]       0                                            \n",
      "__________________________________________________________________________________________________\n",
      "lstm_1 (LSTM)                   [(None, 45, 256), (N 525312      lstm[0][0]                       \n",
      "__________________________________________________________________________________________________\n",
      "embedding_1 (Embedding)         (None, None, 128)    25600       input_2[0][0]                    \n",
      "__________________________________________________________________________________________________\n",
      "lstm_2 (LSTM)                   [(None, 45, 256), (N 525312      lstm_1[0][0]                     \n",
      "__________________________________________________________________________________________________\n",
      "lstm_3 (LSTM)                   [(None, None, 256),  394240      embedding_1[0][0]                \n",
      "                                                                 lstm_2[0][1]                     \n",
      "                                                                 lstm_2[0][2]                     \n",
      "__________________________________________________________________________________________________\n",
      "dense (Dense)                   (None, None, 200)    51400       lstm_3[0][0]                     \n",
      "==================================================================================================\n",
      "Total params: 2,095,304\n",
      "Trainable params: 2,095,304\n",
      "Non-trainable params: 0\n",
      "__________________________________________________________________________________________________\n"
     ]
    }
   ],
   "source": [
    "# 디코더의 출력층\n",
    "decoder_softmax_layer = Dense(tar_vocab, activation = 'softmax')\n",
    "decoder_softmax_outputs = decoder_softmax_layer(decoder_outputs) \n",
    "\n",
    "# 모델 정의\n",
    "model = Model([encoder_inputs, decoder_inputs], decoder_softmax_outputs)\n",
    "model.summary()"
   ]
  },
  {
   "cell_type": "markdown",
   "metadata": {},
   "source": [
    "어텐션 메커니즘 사용. 깃허브에 올라온 파일을 다운로드 해 AttentionLayer를 import 함."
   ]
  },
  {
   "cell_type": "code",
   "execution_count": 49,
   "metadata": {},
   "outputs": [],
   "source": [
    "urllib.request.urlretrieve(\"https://raw.githubusercontent.com/thushv89/attention_keras/master/src/layers/attention.py\", filename=\"attention.py\")\n",
    "from attention import AttentionLayer"
   ]
  },
  {
   "cell_type": "code",
   "execution_count": 50,
   "metadata": {},
   "outputs": [
    {
     "name": "stdout",
     "output_type": "stream",
     "text": [
      "Model: \"model_1\"\n",
      "__________________________________________________________________________________________________\n",
      "Layer (type)                    Output Shape         Param #     Connected to                     \n",
      "==================================================================================================\n",
      "input_1 (InputLayer)            [(None, 45)]         0                                            \n",
      "__________________________________________________________________________________________________\n",
      "embedding (Embedding)           (None, 45, 128)      179200      input_1[0][0]                    \n",
      "__________________________________________________________________________________________________\n",
      "lstm (LSTM)                     [(None, 45, 256), (N 394240      embedding[0][0]                  \n",
      "__________________________________________________________________________________________________\n",
      "input_2 (InputLayer)            [(None, None)]       0                                            \n",
      "__________________________________________________________________________________________________\n",
      "lstm_1 (LSTM)                   [(None, 45, 256), (N 525312      lstm[0][0]                       \n",
      "__________________________________________________________________________________________________\n",
      "embedding_1 (Embedding)         (None, None, 128)    25600       input_2[0][0]                    \n",
      "__________________________________________________________________________________________________\n",
      "lstm_2 (LSTM)                   [(None, 45, 256), (N 525312      lstm_1[0][0]                     \n",
      "__________________________________________________________________________________________________\n",
      "lstm_3 (LSTM)                   [(None, None, 256),  394240      embedding_1[0][0]                \n",
      "                                                                 lstm_2[0][1]                     \n",
      "                                                                 lstm_2[0][2]                     \n",
      "__________________________________________________________________________________________________\n",
      "attention_layer (AttentionLayer ((None, None, 256),  131328      lstm_2[0][0]                     \n",
      "                                                                 lstm_3[0][0]                     \n",
      "__________________________________________________________________________________________________\n",
      "concat_layer (Concatenate)      (None, None, 512)    0           lstm_3[0][0]                     \n",
      "                                                                 attention_layer[0][0]            \n",
      "__________________________________________________________________________________________________\n",
      "dense_1 (Dense)                 (None, None, 200)    102600      concat_layer[0][0]               \n",
      "==================================================================================================\n",
      "Total params: 2,277,832\n",
      "Trainable params: 2,277,832\n",
      "Non-trainable params: 0\n",
      "__________________________________________________________________________________________________\n"
     ]
    }
   ],
   "source": [
    "# 어텐션 층(어텐션 함수)\n",
    "attn_layer = AttentionLayer(name='attention_layer')\n",
    "attn_out, attn_states = attn_layer([encoder_outputs, decoder_outputs])\n",
    "\n",
    "# 어텐션의 결과와 디코더의 hidden state들을 연결\n",
    "decoder_concat_input = Concatenate(axis = -1, name='concat_layer')([decoder_outputs, attn_out])\n",
    "\n",
    "# 디코더의 출력층\n",
    "decoder_softmax_layer = Dense(tar_vocab, activation='softmax')\n",
    "decoder_softmax_outputs = decoder_softmax_layer(decoder_concat_input)\n",
    "\n",
    "# 모델 정의\n",
    "model = Model([encoder_inputs, decoder_inputs], decoder_softmax_outputs)\n",
    "model.summary()"
   ]
  },
  {
   "cell_type": "code",
   "execution_count": 51,
   "metadata": {},
   "outputs": [],
   "source": [
    "# 모델 컴파일\n",
    "model.compile(optimizer='rmsprop', loss='sparse_categorical_crossentropy')"
   ]
  },
  {
   "cell_type": "code",
   "execution_count": 52,
   "metadata": {},
   "outputs": [
    {
     "name": "stdout",
     "output_type": "stream",
     "text": [
      "Epoch 1/50\n",
      "10/10 [==============================] - 50s 4s/step - loss: 4.0670 - val_loss: 2.4159\n",
      "Epoch 2/50\n",
      "10/10 [==============================] - 48s 5s/step - loss: 2.3955 - val_loss: 2.3092\n",
      "Epoch 3/50\n",
      "10/10 [==============================] - 58s 6s/step - loss: 2.2834 - val_loss: 2.2214\n",
      "Epoch 4/50\n",
      "10/10 [==============================] - 68s 7s/step - loss: 2.1826 - val_loss: 2.1278\n",
      "Epoch 5/50\n",
      "10/10 [==============================] - 75s 7s/step - loss: 2.0828 - val_loss: 2.1201\n",
      "Epoch 6/50\n",
      "10/10 [==============================] - 75s 8s/step - loss: 2.0747 - val_loss: 2.0387\n",
      "Epoch 7/50\n",
      "10/10 [==============================] - 79s 8s/step - loss: 1.9968 - val_loss: 2.0342\n",
      "Epoch 8/50\n",
      "10/10 [==============================] - 82s 8s/step - loss: 1.9898 - val_loss: 2.0036\n",
      "Epoch 9/50\n",
      "10/10 [==============================] - 83s 8s/step - loss: 1.9432 - val_loss: 1.9897\n",
      "Epoch 10/50\n",
      "10/10 [==============================] - 88s 9s/step - loss: 1.9277 - val_loss: 1.9903\n",
      "Epoch 11/50\n",
      "10/10 [==============================] - 89s 9s/step - loss: 1.9280 - val_loss: 1.9688\n",
      "Epoch 12/50\n",
      "10/10 [==============================] - 90s 9s/step - loss: 1.8932 - val_loss: 2.0005\n",
      "Epoch 13/50\n",
      "10/10 [==============================] - 95s 10s/step - loss: 1.8784 - val_loss: 1.9496\n",
      "Epoch 14/50\n",
      "10/10 [==============================] - 95s 9s/step - loss: 1.8171 - val_loss: 1.9335\n",
      "Epoch 15/50\n",
      "10/10 [==============================] - 96s 10s/step - loss: 1.8094 - val_loss: 1.9267\n",
      "Epoch 16/50\n",
      "10/10 [==============================] - 96s 10s/step - loss: 1.7846 - val_loss: 1.9327\n",
      "Epoch 17/50\n",
      "10/10 [==============================] - 95s 9s/step - loss: 1.7983 - val_loss: 1.9096\n",
      "Epoch 18/50\n",
      "10/10 [==============================] - 96s 10s/step - loss: 1.7776 - val_loss: 1.9079\n",
      "Epoch 19/50\n",
      "10/10 [==============================] - 99s 10s/step - loss: 1.7356 - val_loss: 1.8945\n",
      "Epoch 20/50\n",
      "10/10 [==============================] - 99s 10s/step - loss: 1.7254 - val_loss: 1.9046\n",
      "Epoch 21/50\n",
      "10/10 [==============================] - 100s 10s/step - loss: 1.7147 - val_loss: 1.8930\n",
      "Epoch 22/50\n",
      "10/10 [==============================] - 100s 10s/step - loss: 1.6872 - val_loss: 1.8981\n",
      "Epoch 23/50\n",
      "10/10 [==============================] - 102s 10s/step - loss: 1.6757 - val_loss: 1.8933\n",
      "Epoch 00023: early stopping\n"
     ]
    }
   ],
   "source": [
    "# 조기 종료 조건 설정 후 모델 학습.\n",
    "es = EarlyStopping(monitor='val_loss', mode='min', verbose=1, patience = 2)\n",
    "history = model.fit(x = [encoder_input_train, decoder_input_train], y = decoder_target_train, \\\n",
    "          validation_data = ([encoder_input_test, decoder_input_test], decoder_target_test),\n",
    "          batch_size = 256, callbacks=[es], epochs = 50)"
   ]
  },
  {
   "cell_type": "code",
   "execution_count": 53,
   "metadata": {},
   "outputs": [
    {
     "data": {
      "image/png": "[encoded data removed]",
      "text/plain": [
       "<Figure size 432x288 with 1 Axes>"
      ]
     },
     "metadata": {
      "needs_background": "light"
     },
     "output_type": "display_data"
    }
   ],
   "source": [
    "# 학습 과정 중 기록된 데이터의 손실 히스토리를 시각화하여 출력\n",
    "plt.plot(history.history['loss'], label='train')\n",
    "plt.plot(history.history['val_loss'], label='test')\n",
    "plt.legend()\n",
    "plt.show()"
   ]
  },
  {
   "cell_type": "markdown",
   "metadata": {},
   "source": [
    "테스트"
   ]
  },
  {
   "cell_type": "code",
   "execution_count": 54,
   "metadata": {},
   "outputs": [],
   "source": [
    "# 테스트를 위한 사전 3개.\n",
    "src_index_to_word = src_tokenizer.index_word # 원문 단어 집합에서 정수 -> 단어를 얻음\n",
    "tar_word_to_index = tar_tokenizer.word_index # 요약 단어 집합에서 단어 -> 정수를 얻음\n",
    "tar_index_to_word = tar_tokenizer.index_word # 요약 단어 집합에서 정수 -> 단어를 얻음"
   ]
  },
  {
   "cell_type": "code",
   "execution_count": 55,
   "metadata": {},
   "outputs": [],
   "source": [
    "# 인코더 설계. 훈련과 테스트 단계의 동작이 다르므로 모델 다시 설계 필요.\n",
    "encoder_model = Model(inputs=encoder_inputs, outputs=[encoder_outputs, state_h, state_c])"
   ]
  },
  {
   "cell_type": "code",
   "execution_count": 56,
   "metadata": {},
   "outputs": [],
   "source": [
    "# 이전 시점의 상태들을 저장하는 텐서\n",
    "decoder_state_input_h = Input(shape=(hidden_size,))\n",
    "decoder_state_input_c = Input(shape=(hidden_size,))\n",
    "\n",
    "dec_emb2 = dec_emb_layer(decoder_inputs)\n",
    "# 문장의 다음 단어를 예측하기 위해서 초기 상태(initial_state)를 이전 시점의 상태로 사용. 이는 뒤의 함수 decode_sequence()에 구현\n",
    "# 훈련 과정에서와 달리 LSTM의 리턴하는 은닉 상태와 셀 상태인 state_h와 state_c를 버리지 않음.\n",
    "decoder_outputs2, state_h2, state_c2 = decoder_lstm(dec_emb2, initial_state=[decoder_state_input_h, decoder_state_input_c])"
   ]
  },
  {
   "cell_type": "code",
   "execution_count": 57,
   "metadata": {},
   "outputs": [],
   "source": [
    "# 어텐션 함수\n",
    "decoder_hidden_state_input = Input(shape=(text_max_len, hidden_size))\n",
    "attn_out_inf, attn_states_inf = attn_layer([decoder_hidden_state_input, decoder_outputs2])\n",
    "decoder_inf_concat = Concatenate(axis=-1, name='concat')([decoder_outputs2, attn_out_inf])\n",
    "\n",
    "# 디코더의 출력층\n",
    "decoder_outputs2 = decoder_softmax_layer(decoder_inf_concat) \n",
    "\n",
    "# 최종 디코더 모델\n",
    "decoder_model = Model(\n",
    "    [decoder_inputs] + [decoder_hidden_state_input,decoder_state_input_h, decoder_state_input_c],\n",
    "    [decoder_outputs2] + [state_h2, state_c2])"
   ]
  },
  {
   "cell_type": "code",
   "execution_count": 58,
   "metadata": {},
   "outputs": [],
   "source": [
    "# 테스트를 위해 사용되는 함수 설계\n",
    "def decode_sequence(input_seq):\n",
    "    # 입력으로부터 인코더의 상태를 얻음\n",
    "    e_out, e_h, e_c = encoder_model.predict(input_seq)\n",
    "\n",
    "     # <SOS>에 해당하는 토큰 생성\n",
    "    target_seq = np.zeros((1,1))\n",
    "    target_seq[0, 0] = tar_word_to_index['sostoken']\n",
    "\n",
    "    stop_condition = False\n",
    "    decoded_sentence = ''\n",
    "    while not stop_condition: # stop_condition이 True가 될 때까지 루프 반복\n",
    "\n",
    "        output_tokens, h, c = decoder_model.predict([target_seq] + [e_out, e_h, e_c])\n",
    "        sampled_token_index = np.argmax(output_tokens[0, -1, :])\n",
    "        sampled_token = tar_index_to_word[sampled_token_index]\n",
    "\n",
    "        if(sampled_token!='eostoken'):\n",
    "            decoded_sentence += ' '+sampled_token\n",
    "\n",
    "        #  <eos>에 도달하거나 최대 길이를 넘으면 중단.\n",
    "        if (sampled_token == 'eostoken'  or len(decoded_sentence.split()) >= (summary_max_len-1)):\n",
    "            stop_condition = True\n",
    "\n",
    "        # 길이가 1인 타겟 시퀀스를 업데이트\n",
    "        target_seq = np.zeros((1,1))\n",
    "        target_seq[0, 0] = sampled_token_index\n",
    "\n",
    "        # 상태를 업데이트 합니다.\n",
    "        e_h, e_c = h, c\n",
    "\n",
    "    return decoded_sentence"
   ]
  },
  {
   "cell_type": "code",
   "execution_count": 59,
   "metadata": {},
   "outputs": [],
   "source": [
    "# 원문의 정수 시퀀스를 텍스트 시퀀스로 변환\n",
    "def seq2text(input_seq):\n",
    "    temp=''\n",
    "    for i in input_seq:\n",
    "        if(i!=0):\n",
    "            temp = temp + src_index_to_word[i]+' '\n",
    "    return temp\n",
    "\n",
    "# 요약문의 정수 시퀀스를 텍스트 시퀀스로 변환\n",
    "def seq2summary(input_seq):\n",
    "    temp=''\n",
    "    for i in input_seq:\n",
    "        if((i!=0 and i!=tar_word_to_index['sostoken']) and i!=tar_word_to_index['eostoken']):\n",
    "            temp = temp + tar_index_to_word[i] + ' '\n",
    "    return temp"
   ]
  },
  {
   "cell_type": "code",
   "execution_count": 60,
   "metadata": {},
   "outputs": [
    {
     "name": "stdout",
     "output_type": "stream",
     "text": [
      "원문 :  seller nice price good reason stop went sugar free time watch fat take would get product \n",
      "실제 요약문 : coffee \n",
      "예측 요약문 :  great for\n",
      "\n",
      "\n",
      "원문 :  good corn product eating case corn way expected well packed stores pantry nicely \n",
      "실제 요약문 : yummy \n",
      "예측 요약문 :  great\n",
      "\n",
      "\n",
      "원문 :  favorite nut snacks absolute favorite almond really great given everyone ask buy great \n",
      "실제 요약문 : best way to eat \n",
      "예측 요약문 :  great\n",
      "\n",
      "\n",
      "원문 :  beef sticks honey great combination beef sticks full flavor adding honey gives little sweetness top honey always favorite friends pack perfect take along \n",
      "실제 요약문 : sweet \n",
      "예측 요약문 :  great pancakes\n",
      "\n",
      "\n",
      "원문 :  three small dogs one favorite treats worry feel giving healthy treat please ever stop making pet shape \n",
      "실제 요약문 : great for little dogs \n",
      "예측 요약문 :  great dog food\n",
      "\n",
      "\n",
      "원문 :  like find bottle convenient like taste would definitely buy considering healthy use sure \n",
      "실제 요약문 : salt \n",
      "예측 요약문 :  great\n",
      "\n",
      "\n",
      "원문 :  expected maybe tasteless really good tried bbq far packs lot flavor get lot chips single serving bag family trip taking pack us healthy snacking could looking watch weight definitely happy product \n",
      "실제 요약문 : very happy \n",
      "예측 요약문 :  great\n",
      "\n",
      "\n",
      "원문 :  fantastic tasting potato chips love individual bags great kids fat stuff low sodium high potassium great people like problem amazon stock times price high \n",
      "실제 요약문 : best chips have ever \n",
      "예측 요약문 :  great\n",
      "\n",
      "\n",
      "원문 :  chips delicious low calories love salt vinegar buy case great thanks \n",
      "실제 요약문 : these are \n",
      "예측 요약문 :  great\n",
      "\n",
      "\n",
      "원문 :  excellent nice rich creamy nut middle \n",
      "실제 요약문 : chocolate \n",
      "예측 요약문 :  great\n",
      "\n",
      "\n",
      "원문 :  crisp crunchy thin low sodium usually prefer mine plain package friend enjoyed tuna salad great alternative expensive varieties sold stores excellent product rice cakes brand also wonderful salt diet sodium \n",
      "실제 요약문 : great \n",
      "예측 요약문 :  great\n",
      "\n",
      "\n",
      "원문 :  good job shipping order quickly nothing like took week ship \n",
      "실제 요약문 : very \n",
      "예측 요약문 :  great food\n",
      "\n",
      "\n",
      "원문 :  keep hand heart enjoy cup almost every night good taste buy \n",
      "실제 요약문 : the \n",
      "예측 요약문 :  great\n",
      "\n",
      "\n",
      "원문 :  great taste texture flavor works well recipe wonderful gluten free products expensive normally definitely recommend \n",
      "실제 요약문 : perfect \n",
      "예측 요약문 :  great\n",
      "\n",
      "\n",
      "원문 :  ordered reading good ground ordered reasonably priced grinding easily using since time made true product arrived time great shape purchased several times disappointed \n",
      "실제 요약문 : so good for you \n",
      "예측 요약문 :  great\n",
      "\n",
      "\n",
      "원문 :  bad children even like difficult please comes sweet drinks food \n",
      "실제 요약문 : not good \n",
      "예측 요약문 :  great food\n",
      "\n",
      "\n",
      "원문 :  love chips ordered case chips came without inside bags box say chips broken would order great item cannot package chip one money \n",
      "실제 요약문 : chips but tasty \n",
      "예측 요약문 :  great\n",
      "\n",
      "\n",
      "원문 :  icicle pretty good price easy cool definitely light made plastic one things like fair amount along cheap price get pay \n",
      "실제 요약문 : not bad not great \n",
      "예측 요약문 :  great\n",
      "\n",
      "\n",
      "원문 :  great idea daughter love think difficult wash mean like water come absolutely recommend \n",
      "실제 요약문 : absolutely love it \n",
      "예측 요약문 :  great\n",
      "\n",
      "\n",
      "원문 :  sent two friend thank big fan thrilled get cinnamon chocolate said delicious \n",
      "실제 요약문 : delicious \n",
      "예측 요약문 :  great\n",
      "\n",
      "\n",
      "원문 :  tried different hot cocoa brands keurig disappointed every time cocoa smooth full flavored either small cup size medium add splash almond milk ready go perfect definitely buy \n",
      "실제 요약문 : yummy \n",
      "예측 요약문 :  hot cocoa\n",
      "\n",
      "\n",
      "원문 :  good variety flavors makes sample choice type prefer also good packed lunches snack \n",
      "실제 요약문 : pop chips flavor \n",
      "예측 요약문 :  great\n",
      "\n",
      "\n",
      "원문 :  love salt vinegar potato chips one choose flavor tart aftertaste like less natural snack ounce bags right share lunch chips little greasy given stars instead \n",
      "실제 요약문 : and delicious snack \n",
      "예측 요약문 :  great\n",
      "\n",
      "\n",
      "원문 :  like garlic making dip reduced fat usually add serve chips rave reviews friends complaint dried vegetables powder difficult make sure \n",
      "실제 요약문 : yum \n",
      "예측 요약문 :  great\n",
      "\n",
      "\n",
      "원문 :  decided try year ago stomach problems mouth trick plus tastes great could \n",
      "실제 요약문 : coffee \n",
      "예측 요약문 :  great\n",
      "\n",
      "\n",
      "원문 :  agree company natural tried small bag local store immediately bought bulk online save flavor strong best food mild flavor like vegetables plain whole grain bread otherwise food \n",
      "실제 요약문 : great flavor \n",
      "예측 요약문 :  great for\n",
      "\n",
      "\n",
      "원문 :  found much plain tuna excellent quality need put power minute believe little flavor \n",
      "실제 요약문 : taste \n",
      "예측 요약문 :  great\n",
      "\n",
      "\n",
      "원문 :  great snack instead potato chips lower calories still delicious ordering \n",
      "실제 요약문 : pop chips love them \n",
      "예측 요약문 :  great\n",
      "\n",
      "\n",
      "원문 :  like newman family due quality good ingredients like quality products amazon makes convenient get bags front according got three four pound bags \n",
      "실제 요약문 : dog loves food we like \n",
      "예측 요약문 :  great free\n",
      "\n",
      "\n",
      "원문 :  love taste coco pineapple drink melted oz boxes better case drink coconut taste slightly pineapple seems keep pretty \n",
      "실제 요약문 : best water flavor and \n",
      "예측 요약문 :  great cocoa\n",
      "\n",
      "\n",
      "원문 :  definitely canned anything supermarket natural ingredients really quite good especially coming excellent clam chowder little milk butter exactly warm within minutes one canned keep one convenient satisfying always minutes away highly recommended \n",
      "실제 요약문 : it is from \n",
      "예측 요약문 :  great pancakes\n",
      "\n",
      "\n",
      "원문 :  bought product online although cereal cannot find store carries would like know called could really give good try another product found good appreciate amazon continue order way really keeps regular better cereal try like \n",
      "실제 요약문 : hard to find product \n",
      "예측 요약문 :  great\n",
      "\n",
      "\n",
      "원문 :  great way help keeping tasty crunchy great sandwiches salad even \n",
      "실제 요약문 : popchips \n",
      "예측 요약문 :  great\n",
      "\n",
      "\n",
      "원문 :  fresh great way get little chocolate life without calories taste like chocolate pudding \n",
      "실제 요약문 : best chocolate \n",
      "예측 요약문 :  great\n",
      "\n",
      "\n",
      "원문 :  cannot middle enough experience say aroma taste better product extremely fresh smell taste pleased purchase buy time comes \n",
      "실제 요약문 : fresh and quality \n",
      "예측 요약문 :  great\n",
      "\n",
      "\n",
      "원문 :  two year old loves newman dog food ate year goes much easier eat hungry actually likes highly recommend product would giving dog nothing less \n",
      "실제 요약문 : dog loves this food \n",
      "예측 요약문 :  great dog food\n",
      "\n",
      "\n",
      "원문 :  tried gevalia flavors one like like regular cup coffee goes creamer \n",
      "실제 요약문 : delicious \n",
      "예측 요약문 :  great\n",
      "\n",
      "\n",
      "원문 :  local store bought salsa numerous times salsa tastes feel rich love salsa spicy point cannot enjoy salsa chips salsa feel watered great go salsa choice \n",
      "실제 요약문 : tasty spicy and rich \n",
      "예측 요약문 :  great\n",
      "\n",
      "\n",
      "원문 :  newman food one best market natural healthy food dog \n",
      "실제 요약문 : product \n",
      "예측 요약문 :  great food\n",
      "\n",
      "\n",
      "원문 :  dog allergy corn every bag local stores main fillers corn thought would pet store find corn free dog food found brand amazon listed corn dog loves much even use trick training buying \n",
      "실제 요약문 : dog loves it \n",
      "예측 요약문 :  my dog food\n",
      "\n",
      "\n",
      "원문 :  best iced green tea ever hint blueberry perfect add bit stevia little sweetness would call instant tea carry packet better tea could buy eating stash tea always good \n",
      "실제 요약문 : perfect tea \n",
      "예측 요약문 :  great\n",
      "\n",
      "\n",
      "원문 :  great buy love hot chocolate low sugar good taste messy like regular hot chocolate cup would buy \n",
      "실제 요약문 : love the hot chocolate \n",
      "예측 요약문 :  great\n",
      "\n",
      "\n",
      "원문 :  like spicy like spicy enjoyed also crunchy kettle cooked chips \n",
      "실제 요약문 : spicy but good \n",
      "예측 요약문 :  great\n",
      "\n",
      "\n",
      "원문 :  pops great microwave much better many store brands good product \n",
      "실제 요약문 : popcorn love this popcorn \n",
      "예측 요약문 :  great\n",
      "\n",
      "\n",
      "원문 :  received ingredients timely manner ingredients nicely packed fresh shipping needed meal making plenty left ingredients \n",
      "실제 요약문 : and fresh \n",
      "예측 요약문 :  great\n",
      "\n",
      "\n",
      "원문 :  whole family tasted flavors sweet disappointed product sucralose would buy \n",
      "실제 요약문 : does this have \n",
      "예측 요약문 :  great\n",
      "\n",
      "\n",
      "원문 :  found candy expected came bar form rather hard chew tasty takes enjoy \n",
      "실제 요약문 : my favorite candy but \n",
      "예측 요약문 :  great\n",
      "\n",
      "\n",
      "원문 :  use make warm milk egg texture made water small amount butter crust comes chewy also made bread used juice place water makes beautiful color sweet \n",
      "실제 요약문 : be \n",
      "예측 요약문 :  great\n",
      "\n",
      "\n",
      "원문 :  love love green tea hard find area big price usually get many boxes definitely order seller thanks green tea fix everyday \n",
      "실제 요약문 : tea review \n",
      "예측 요약문 :  great\n",
      "\n",
      "\n",
      "원문 :  bought husband wanted try french sea salt recommended cooking grinding works well seems like realize however may folks need make sure take enough \n",
      "실제 요약문 : nice \n",
      "예측 요약문 :  great\n",
      "\n",
      "\n",
      "원문 :  bought chips little sandwich shop sure expect package first bite know think flavors hit yum bit spicy nothing overpowering lots crunchy sweet spicy sold everywhere though still trying find close live \n",
      "실제 요약문 : love these chips \n"
     ]
    },
    {
     "name": "stdout",
     "output_type": "stream",
     "text": [
      "예측 요약문 :  great\n",
      "\n",
      "\n",
      "원문 :  main ingredients dog food much better ingredients grocery store brands less expensive brands dog coat looks seems much healthier since switched food year ago nice thing target brand ever find end bag ordered time stop target \n",
      "실제 요약문 : very good \n",
      "예측 요약문 :  great dog food\n",
      "\n",
      "\n",
      "원문 :  around amazon looking pleased see favorite sauce order shipped friends favorite love heat also love pineapple go wrong ordering \n",
      "실제 요약문 : best sauce \n",
      "예측 요약문 :  great\n",
      "\n",
      "\n",
      "원문 :  bought husband drinking espresso life trip italy bought espresso able find order amazon bought gevalia try something new based reviews thought might good idea husband loves actually bought another pack use top fine type maker highly recommend \n",
      "실제 요약문 : wow \n",
      "예측 요약문 :  my\n",
      "\n",
      "\n",
      "원문 :  purchased present come little white bags flavor someone gift would even know unless \n",
      "실제 요약문 : not as \n",
      "예측 요약문 :  great\n",
      "\n",
      "\n",
      "원문 :  product described shipped promptly part diet bread \n",
      "실제 요약문 : bread \n",
      "예측 요약문 :  great free\n",
      "\n",
      "\n",
      "원문 :  like cheese love creamy flavor try crackers little black oil \n",
      "실제 요약문 : fantastic \n",
      "예측 요약문 :  great\n",
      "\n",
      "\n",
      "원문 :  recently stopped eating number one snacks fit unfortunately pretty gross texture flavored berry threw away would recommend cocoa ones much also free \n",
      "실제 요약문 : the chocolate are much better \n",
      "예측 요약문 :  great\n",
      "\n",
      "\n",
      "원문 :  chips might seem little expensive compared chips disappointed purchase arrived days made perfect snack husband lunches also store selling target away would buy per case get \n",
      "실제 요약문 : worth the money \n",
      "예측 요약문 :  great\n",
      "\n",
      "\n",
      "원문 :  ordered months ago find acid read ingredients main label says olive juice thing going suggest amazon take website \n",
      "실제 요약문 : not really \n",
      "예측 요약문 :  great\n",
      "\n",
      "\n",
      "원문 :  tried normal red tea review flavor still tea less color water well well worth every \n",
      "실제 요약문 : better than \n",
      "예측 요약문 :  great\n",
      "\n",
      "\n",
      "원문 :  seriously delicious especially like plain potato chips oily kettle chips fried open bag coating oil inside bag chips suggest either way yummy potato taste satisfying crunch delicious \n",
      "실제 요약문 : delicious \n",
      "예측 요약문 :  great\n",
      "\n",
      "\n",
      "원문 :  absolutely loved chips ordering amazon able find target really good flavor would eat even trying loose weight recommended weight watchers \n",
      "실제 요약문 : loved the chips \n",
      "예측 요약문 :  great\n",
      "\n",
      "\n",
      "원문 :  really really tasty much healthier almost every potato chip variety flavors huge sea salt vinegar crazy sour personally think vinegar hard stop one serving take good snack \n",
      "실제 요약문 : new favorite \n",
      "예측 요약문 :  great\n",
      "\n",
      "\n",
      "원문 :  based great reviews everyone picky dogs always eating picky dog would enjoy well price amount also good considering organic dog smells away try food way eat around food wont buying really dog enjoyed could continue brand \n",
      "실제 요약문 : my dog it \n",
      "예측 요약문 :  great food\n",
      "\n",
      "\n",
      "원문 :  bought several types brands hot cocoa cups definitely one best great flavor everyone house liked even year old likes hot cocoa loved creamy actually tasted like melted candy bar good taste watered like course price amazing let one products actually good even though expensive \n",
      "실제 요약문 : very yummy hot cocoa \n",
      "예측 요약문 :  hot cocoa\n",
      "\n",
      "\n",
      "원문 :  coffee strong enough tastes use cream sure makes difference \n",
      "실제 요약문 : not my cup of coffee \n",
      "예측 요약문 :  great\n",
      "\n",
      "\n",
      "원문 :  great mix mixed milk instead water follow directions \n",
      "실제 요약문 : tasty great \n",
      "예측 요약문 :  great\n",
      "\n",
      "\n",
      "원문 :  good would easier filling already fact goes buy water bean help make filling good work frozen \n",
      "실제 요약문 : food \n",
      "예측 요약문 :  great\n",
      "\n",
      "\n",
      "원문 :  crispy thin right consistency uses taste fantastic fresh pleasant eat products best \n",
      "실제 요약문 : the best ever \n",
      "예측 요약문 :  great\n",
      "\n",
      "\n",
      "원문 :  recently bottle immediately impressed good flavor without supermarket brands used dipping sauces addition straight use cases added little something extra quite surprise find american made soy sauce tastes good \n",
      "실제 요약문 : better than in the \n",
      "예측 요약문 :  great food\n",
      "\n",
      "\n",
      "원문 :  able drink coffee years due even stuff coffee favorite gave try stuff free good coffee able coffee back life \n",
      "실제 요약문 : love this coffee \n",
      "예측 요약문 :  great\n",
      "\n",
      "\n",
      "원문 :  delivered product perfect smell dogs love much less expensive dogs even see grain worry \n",
      "실제 요약문 : good stuff \n",
      "예측 요약문 :  great\n",
      "\n",
      "\n",
      "원문 :  care licorice husband thinks best licorice ever loves stuff also given two friends licorice lovers say delicious \n",
      "실제 요약문 : it \n",
      "예측 요약문 :  great\n",
      "\n",
      "\n",
      "원문 :  many brands pizza crust mix cake mix reason give stars slightly pricey issue gluten free enjoy \n",
      "실제 요약문 : excellent product and convenient \n",
      "예측 요약문 :  great\n",
      "\n",
      "\n",
      "원문 :  coffee good flavor good first seemed strong got use recommend flavor coffee good morning \n",
      "실제 요약문 : delicious \n",
      "예측 요약문 :  great\n",
      "\n",
      "\n",
      "원문 :  white recently ordered bottles olive juice \n",
      "실제 요약문 : white \n",
      "예측 요약문 :  great\n",
      "\n",
      "\n",
      "원문 :  excellent gf bad used basis coconut cake pineapple cake cake others \n",
      "실제 요약문 : for all \n",
      "예측 요약문 :  great\n",
      "\n",
      "\n",
      "원문 :  like really like always makes best portion pack ounce \n",
      "실제 요약문 : yummy \n",
      "예측 요약문 :  great\n",
      "\n",
      "\n",
      "원문 :  well product good taste great convenience excellent delivery quick love things tend machine never ever happens coffee may one could run hot water serving otherwise excellent product \n",
      "실제 요약문 : hot cocoa \n",
      "예측 요약문 :  great\n",
      "\n",
      "\n",
      "원문 :  tea horrible tasted like really enjoyed teas many also thought try something new think last ingredient things went bad natural flavor must rose oil something since tea taste making tea help \n",
      "실제 요약문 : just bad \n",
      "예측 요약문 :  great\n",
      "\n",
      "\n",
      "원문 :  item fine banana like banana alot smaller also received item packaging great banana come open shipping \n",
      "실제 요약문 : not \n",
      "예측 요약문 :  great\n",
      "\n",
      "\n",
      "원문 :  trouble finding locally delivery fast flour local grocery stores \n",
      "실제 요약문 : yum \n",
      "예측 요약문 :  great\n",
      "\n",
      "\n",
      "원문 :  expecting cookies going normal size wrong dipping chocolates average size disappointed go find normal size cookies waste money also needed broken put box outside \n",
      "실제 요약문 : they are \n",
      "예측 요약문 :  great\n",
      "\n",
      "\n",
      "원문 :  name coffee mahogany mind deep rich brown coffee flavor deep rich color dark brown delicious \n",
      "실제 요약문 : coffee is good is good \n",
      "예측 요약문 :  great\n",
      "\n",
      "\n",
      "원문 :  much normal green one pack makes many \n",
      "실제 요약문 : hot hot hot \n",
      "예측 요약문 :  great\n",
      "\n",
      "\n",
      "원문 :  bought tea alternative pricey black teas cup every morning smooth refreshing tea \n",
      "실제 요약문 : delicious \n",
      "예측 요약문 :  great\n",
      "\n",
      "\n",
      "원문 :  item got house time surprised well package packed recommend store anyone \n",
      "실제 요약문 : service was good \n",
      "예측 요약문 :  great\n",
      "\n",
      "\n",
      "원문 :  normal oz much one person oz version perfect make two sandwiches cut half half cut perfect top toast salad green nd toast quick filling lunch sandwich nd half become nd sandwich \n",
      "실제 요약문 : perfect \n",
      "예측 요약문 :  great\n",
      "\n",
      "\n",
      "원문 :  bisquick since became gluten free happy see gone gluten free made pancakes far wonderful \n",
      "실제 요약문 : happy there is gluten free bisquick \n",
      "예측 요약문 :  great food\n",
      "\n",
      "\n",
      "원문 :  almost cannot stop eating cereal eat breakfast evening think want something eat really hungry snack healthy long healthy eat cup enjoy \n",
      "실제 요약문 : wonderful for breakfast and \n",
      "예측 요약문 :  great free\n",
      "\n",
      "\n",
      "원문 :  love love love deal way fun pick many teas chocolates well many coffees much nice also via slightly ordering want great packaging ship fast loose box \n",
      "실제 요약문 : wonderful \n",
      "예측 요약문 :  great\n",
      "\n",
      "\n",
      "원문 :  love tea issues added teas teas tell exactly ordering ever since first box tea take office container take \n",
      "실제 요약문 : best tea \n",
      "예측 요약문 :  great dog food\n",
      "\n",
      "\n",
      "원문 :  saw made decided give try really enjoy flavor looking forward trying several dishes thanks brewed \n",
      "실제 요약문 : product \n",
      "예측 요약문 :  great\n",
      "\n",
      "\n",
      "원문 :  review got live buy lots water cannot tell difference bottle talking glass cold water \n",
      "실제 요약문 : just water nothing more \n",
      "예측 요약문 :  great\n",
      "\n",
      "\n",
      "원문 :  tastes better looks first thing said co looking peanut came microwave unfortunately looks likely purchasing often could see chicken beef tasting even better though \n",
      "실제 요약문 : really good \n",
      "예측 요약문 :  great\n",
      "\n",
      "\n",
      "원문 :  everyone tic let tell something like orange tic going love wild cherry tic cherry flavored enough mix sweet sour try \n",
      "실제 요약문 : yum \n",
      "예측 요약문 :  great\n",
      "\n",
      "\n",
      "원문 :  english muffins okay best hard cut break easily making hard toast definitely something like jelly peanut butter otherwise taste best \n",
      "실제 요약문 : not like muffins \n",
      "예측 요약문 :  great\n",
      "\n",
      "\n",
      "원문 :  product great pancakes baked blend bisquick bread mix great gluten free free treats bread mix makes less \n",
      "실제 요약문 : great product \n",
      "예측 요약문 :  great dog food\n",
      "\n",
      "\n",
      "원문 :  ordered dark hot cocoa would real better buying pouch hot chocolate adding hot water actually think pouch added hot water better whole lot cheaper price \n",
      "실제 요약문 : not worth the \n",
      "예측 요약문 :  great\n",
      "\n",
      "\n",
      "원문 :  first time tried thought wow quickly found spicy tart hard enjoy potato mouth \n",
      "실제 요약문 : an potato chip \n"
     ]
    },
    {
     "name": "stdout",
     "output_type": "stream",
     "text": [
      "예측 요약문 :  great cocoa\n",
      "\n",
      "\n",
      "원문 :  smooth full flavor bitter nasty aftertaste people like extra bold starbucks french roast dark cup love better \n",
      "실제 요약문 : love it \n",
      "예측 요약문 :  great\n",
      "\n",
      "\n",
      "원문 :  product exactly advertised least half price easy store individual packaging \n",
      "실제 요약문 : sugar in the \n",
      "예측 요약문 :  great for\n",
      "\n",
      "\n",
      "원문 :  one best lemon juice tried customer due high quality product season fresh one need kitchen continue buying \n",
      "실제 요약문 : excellent \n",
      "예측 요약문 :  great\n",
      "\n",
      "\n",
      "원문 :  great little snack packs flavorful chips fairly low fat low \n",
      "실제 요약문 : delicious \n",
      "예측 요약문 :  great\n",
      "\n",
      "\n",
      "원문 :  bought daughter birthday super cute kids loved definitely expectations \n",
      "실제 요약문 : loved these \n",
      "예측 요약문 :  great\n",
      "\n",
      "\n"
     ]
    },
    {
     "ename": "IndexError",
     "evalue": "index 606 is out of bounds for axis 0 with size 606",
     "output_type": "error",
     "traceback": [
      "\u001b[1;31m---------------------------------------------------------------------------\u001b[0m",
      "\u001b[1;31mIndexError\u001b[0m                                Traceback (most recent call last)",
      "\u001b[1;32m<ipython-input-60-e323edc6cf96>\u001b[0m in \u001b[0;36m<module>\u001b[1;34m\u001b[0m\n\u001b[0;32m      1\u001b[0m \u001b[1;32mfor\u001b[0m \u001b[0mi\u001b[0m \u001b[1;32min\u001b[0m \u001b[0mrange\u001b[0m\u001b[1;33m(\u001b[0m\u001b[1;36m500\u001b[0m\u001b[1;33m,\u001b[0m \u001b[1;36m1000\u001b[0m\u001b[1;33m)\u001b[0m\u001b[1;33m:\u001b[0m\u001b[1;33m\u001b[0m\u001b[1;33m\u001b[0m\u001b[0m\n\u001b[1;32m----> 2\u001b[1;33m     \u001b[0mprint\u001b[0m\u001b[1;33m(\u001b[0m\u001b[1;34m\"원문 : \"\u001b[0m\u001b[1;33m,\u001b[0m\u001b[0mseq2text\u001b[0m\u001b[1;33m(\u001b[0m\u001b[0mencoder_input_test\u001b[0m\u001b[1;33m[\u001b[0m\u001b[0mi\u001b[0m\u001b[1;33m]\u001b[0m\u001b[1;33m)\u001b[0m\u001b[1;33m)\u001b[0m\u001b[1;33m\u001b[0m\u001b[1;33m\u001b[0m\u001b[0m\n\u001b[0m\u001b[0;32m      3\u001b[0m     \u001b[0mprint\u001b[0m\u001b[1;33m(\u001b[0m\u001b[1;34m\"실제 요약문 :\"\u001b[0m\u001b[1;33m,\u001b[0m\u001b[0mseq2summary\u001b[0m\u001b[1;33m(\u001b[0m\u001b[0mdecoder_input_test\u001b[0m\u001b[1;33m[\u001b[0m\u001b[0mi\u001b[0m\u001b[1;33m]\u001b[0m\u001b[1;33m)\u001b[0m\u001b[1;33m)\u001b[0m\u001b[1;33m\u001b[0m\u001b[1;33m\u001b[0m\u001b[0m\n\u001b[0;32m      4\u001b[0m     \u001b[0mprint\u001b[0m\u001b[1;33m(\u001b[0m\u001b[1;34m\"예측 요약문 :\"\u001b[0m\u001b[1;33m,\u001b[0m\u001b[0mdecode_sequence\u001b[0m\u001b[1;33m(\u001b[0m\u001b[0mencoder_input_test\u001b[0m\u001b[1;33m[\u001b[0m\u001b[0mi\u001b[0m\u001b[1;33m]\u001b[0m\u001b[1;33m.\u001b[0m\u001b[0mreshape\u001b[0m\u001b[1;33m(\u001b[0m\u001b[1;36m1\u001b[0m\u001b[1;33m,\u001b[0m \u001b[0mtext_max_len\u001b[0m\u001b[1;33m)\u001b[0m\u001b[1;33m)\u001b[0m\u001b[1;33m)\u001b[0m\u001b[1;33m\u001b[0m\u001b[1;33m\u001b[0m\u001b[0m\n\u001b[0;32m      5\u001b[0m     \u001b[0mprint\u001b[0m\u001b[1;33m(\u001b[0m\u001b[1;34m\"\\n\"\u001b[0m\u001b[1;33m)\u001b[0m\u001b[1;33m\u001b[0m\u001b[1;33m\u001b[0m\u001b[0m\n",
      "\u001b[1;31mIndexError\u001b[0m: index 606 is out of bounds for axis 0 with size 606"
     ]
    }
   ],
   "source": [
    "for i in range(500, 1000):\n",
    "    print(\"원문 : \",seq2text(encoder_input_test[i]))\n",
    "    print(\"실제 요약문 :\",seq2summary(decoder_input_test[i]))\n",
    "    print(\"예측 요약문 :\",decode_sequence(encoder_input_test[i].reshape(1, text_max_len)))\n",
    "    print(\"\\n\")"
   ]
  },
  {
   "cell_type": "code",
   "execution_count": null,
   "metadata": {},
   "outputs": [],
   "source": []
  },
  {
   "cell_type": "code",
   "execution_count": null,
   "metadata": {},
   "outputs": [],
   "source": []
  }
 ],
 "metadata": {
  "kernelspec": {
   "display_name": "Python 3",
   "language": "python",
   "name": "python3"
  },
  "language_info": {
   "codemirror_mode": {
    "name": "ipython",
    "version": 3
   },
   "file_extension": ".py",
   "mimetype": "text/x-python",
   "name": "python",
   "nbconvert_exporter": "python",
   "pygments_lexer": "ipython3",
   "version": "3.7.6"
  }
 },
 "nbformat": 4,
 "nbformat_minor": 4
}
